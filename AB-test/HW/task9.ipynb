{
 "cells": [
  {
   "cell_type": "code",
   "execution_count": 1,
   "id": "519d0527",
   "metadata": {},
   "outputs": [],
   "source": [
    "from scipy.stats import ttest_1samp, mannwhitneyu\n",
    "import numpy as np\n",
    "from scipy.stats import shapiro\n",
    "import warnings\n",
    "warnings.filterwarnings('ignore')\n",
    "warnings.warn('DelftStack')\n",
    "warnings.warn('Do not show this message')\n",
    "from scipy import stats\n",
    "import matplotlib.pyplot as plt\n",
    "import seaborn as sns\n",
    "import pandas as pd\n",
    "from statsmodels.stats.power import TTestIndPower\n",
    "from scipy.stats import kstest"
   ]
  },
  {
   "cell_type": "code",
   "execution_count": 2,
   "id": "3356faf0",
   "metadata": {},
   "outputs": [
    {
     "data": {
      "text/html": [
       "<div>\n",
       "<style scoped>\n",
       "    .dataframe tbody tr th:only-of-type {\n",
       "        vertical-align: middle;\n",
       "    }\n",
       "\n",
       "    .dataframe tbody tr th {\n",
       "        vertical-align: top;\n",
       "    }\n",
       "\n",
       "    .dataframe thead th {\n",
       "        text-align: right;\n",
       "    }\n",
       "</style>\n",
       "<table border=\"1\" class=\"dataframe\">\n",
       "  <thead>\n",
       "    <tr style=\"text-align: right;\">\n",
       "      <th></th>\n",
       "      <th>userid</th>\n",
       "      <th>version</th>\n",
       "      <th>sum_gamerounds</th>\n",
       "      <th>retention_1</th>\n",
       "      <th>retention_7</th>\n",
       "    </tr>\n",
       "  </thead>\n",
       "  <tbody>\n",
       "    <tr>\n",
       "      <th>0</th>\n",
       "      <td>116</td>\n",
       "      <td>gate_30</td>\n",
       "      <td>3</td>\n",
       "      <td>0</td>\n",
       "      <td>0</td>\n",
       "    </tr>\n",
       "    <tr>\n",
       "      <th>1</th>\n",
       "      <td>337</td>\n",
       "      <td>gate_30</td>\n",
       "      <td>38</td>\n",
       "      <td>1</td>\n",
       "      <td>0</td>\n",
       "    </tr>\n",
       "    <tr>\n",
       "      <th>2</th>\n",
       "      <td>377</td>\n",
       "      <td>gate_40</td>\n",
       "      <td>165</td>\n",
       "      <td>1</td>\n",
       "      <td>0</td>\n",
       "    </tr>\n",
       "    <tr>\n",
       "      <th>3</th>\n",
       "      <td>483</td>\n",
       "      <td>gate_40</td>\n",
       "      <td>1</td>\n",
       "      <td>0</td>\n",
       "      <td>0</td>\n",
       "    </tr>\n",
       "    <tr>\n",
       "      <th>4</th>\n",
       "      <td>488</td>\n",
       "      <td>gate_40</td>\n",
       "      <td>179</td>\n",
       "      <td>1</td>\n",
       "      <td>1</td>\n",
       "    </tr>\n",
       "  </tbody>\n",
       "</table>\n",
       "</div>"
      ],
      "text/plain": [
       "   userid  version  sum_gamerounds  retention_1  retention_7\n",
       "0     116  gate_30               3            0            0\n",
       "1     337  gate_30              38            1            0\n",
       "2     377  gate_40             165            1            0\n",
       "3     483  gate_40               1            0            0\n",
       "4     488  gate_40             179            1            1"
      ]
     },
     "execution_count": 2,
     "metadata": {},
     "output_type": "execute_result"
    }
   ],
   "source": [
    "df = pd.read_excel('результаты А_B.xlsx')\n",
    "df.head()"
   ]
  },
  {
   "cell_type": "code",
   "execution_count": 3,
   "id": "9f2242d5",
   "metadata": {},
   "outputs": [
    {
     "name": "stdout",
     "output_type": "stream",
     "text": [
      "<class 'pandas.core.frame.DataFrame'>\n",
      "RangeIndex: 90189 entries, 0 to 90188\n",
      "Data columns (total 5 columns):\n",
      " #   Column          Non-Null Count  Dtype \n",
      "---  ------          --------------  ----- \n",
      " 0   userid          90189 non-null  int64 \n",
      " 1   version         90189 non-null  object\n",
      " 2   sum_gamerounds  90189 non-null  int64 \n",
      " 3   retention_1     90189 non-null  int64 \n",
      " 4   retention_7     90189 non-null  int64 \n",
      "dtypes: int64(4), object(1)\n",
      "memory usage: 3.4+ MB\n"
     ]
    }
   ],
   "source": [
    "df.info()"
   ]
  },
  {
   "cell_type": "code",
   "execution_count": 4,
   "id": "dfed1b97",
   "metadata": {},
   "outputs": [
    {
     "data": {
      "text/html": [
       "<div>\n",
       "<style scoped>\n",
       "    .dataframe tbody tr th:only-of-type {\n",
       "        vertical-align: middle;\n",
       "    }\n",
       "\n",
       "    .dataframe tbody tr th {\n",
       "        vertical-align: top;\n",
       "    }\n",
       "\n",
       "    .dataframe thead th {\n",
       "        text-align: right;\n",
       "    }\n",
       "</style>\n",
       "<table border=\"1\" class=\"dataframe\">\n",
       "  <thead>\n",
       "    <tr style=\"text-align: right;\">\n",
       "      <th></th>\n",
       "      <th>userid</th>\n",
       "      <th>sum_gamerounds</th>\n",
       "      <th>retention_1</th>\n",
       "      <th>retention_7</th>\n",
       "    </tr>\n",
       "  </thead>\n",
       "  <tbody>\n",
       "    <tr>\n",
       "      <th>count</th>\n",
       "      <td>9.018900e+04</td>\n",
       "      <td>90189.000000</td>\n",
       "      <td>90189.000000</td>\n",
       "      <td>90189.000000</td>\n",
       "    </tr>\n",
       "    <tr>\n",
       "      <th>mean</th>\n",
       "      <td>4.998412e+06</td>\n",
       "      <td>51.872457</td>\n",
       "      <td>0.445210</td>\n",
       "      <td>0.186065</td>\n",
       "    </tr>\n",
       "    <tr>\n",
       "      <th>std</th>\n",
       "      <td>2.883286e+06</td>\n",
       "      <td>195.050858</td>\n",
       "      <td>0.496992</td>\n",
       "      <td>0.389161</td>\n",
       "    </tr>\n",
       "    <tr>\n",
       "      <th>min</th>\n",
       "      <td>1.160000e+02</td>\n",
       "      <td>0.000000</td>\n",
       "      <td>0.000000</td>\n",
       "      <td>0.000000</td>\n",
       "    </tr>\n",
       "    <tr>\n",
       "      <th>25%</th>\n",
       "      <td>2.512230e+06</td>\n",
       "      <td>5.000000</td>\n",
       "      <td>0.000000</td>\n",
       "      <td>0.000000</td>\n",
       "    </tr>\n",
       "    <tr>\n",
       "      <th>50%</th>\n",
       "      <td>4.995815e+06</td>\n",
       "      <td>16.000000</td>\n",
       "      <td>0.000000</td>\n",
       "      <td>0.000000</td>\n",
       "    </tr>\n",
       "    <tr>\n",
       "      <th>75%</th>\n",
       "      <td>7.496452e+06</td>\n",
       "      <td>51.000000</td>\n",
       "      <td>1.000000</td>\n",
       "      <td>0.000000</td>\n",
       "    </tr>\n",
       "    <tr>\n",
       "      <th>max</th>\n",
       "      <td>9.999861e+06</td>\n",
       "      <td>49854.000000</td>\n",
       "      <td>1.000000</td>\n",
       "      <td>1.000000</td>\n",
       "    </tr>\n",
       "  </tbody>\n",
       "</table>\n",
       "</div>"
      ],
      "text/plain": [
       "             userid  sum_gamerounds   retention_1   retention_7\n",
       "count  9.018900e+04    90189.000000  90189.000000  90189.000000\n",
       "mean   4.998412e+06       51.872457      0.445210      0.186065\n",
       "std    2.883286e+06      195.050858      0.496992      0.389161\n",
       "min    1.160000e+02        0.000000      0.000000      0.000000\n",
       "25%    2.512230e+06        5.000000      0.000000      0.000000\n",
       "50%    4.995815e+06       16.000000      0.000000      0.000000\n",
       "75%    7.496452e+06       51.000000      1.000000      0.000000\n",
       "max    9.999861e+06    49854.000000      1.000000      1.000000"
      ]
     },
     "execution_count": 4,
     "metadata": {},
     "output_type": "execute_result"
    }
   ],
   "source": [
    "df.describe()"
   ]
  },
  {
   "cell_type": "markdown",
   "id": "12f8b7f0",
   "metadata": {},
   "source": [
    "**Проверяем распределениепользователей по обеим группам "
   ]
  },
  {
   "cell_type": "code",
   "execution_count": 5,
   "id": "47582bb4",
   "metadata": {},
   "outputs": [
    {
     "data": {
      "text/plain": [
       "gate_40    45489\n",
       "gate_30    44700\n",
       "Name: version, dtype: int64"
      ]
     },
     "execution_count": 5,
     "metadata": {},
     "output_type": "execute_result"
    }
   ],
   "source": [
    "df.version.value_counts()"
   ]
  },
  {
   "cell_type": "markdown",
   "id": "3959bcc0",
   "metadata": {},
   "source": [
    "пользователи распределы по группам равномерно"
   ]
  },
  {
   "cell_type": "markdown",
   "id": "f14b87d3",
   "metadata": {},
   "source": [
    "**проверяем уникальных пользователей"
   ]
  },
  {
   "cell_type": "code",
   "execution_count": 6,
   "id": "7f949be1",
   "metadata": {},
   "outputs": [
    {
     "data": {
      "text/plain": [
       "90189"
      ]
     },
     "execution_count": 6,
     "metadata": {},
     "output_type": "execute_result"
    }
   ],
   "source": [
    "df['userid'].nunique()"
   ]
  },
  {
   "cell_type": "markdown",
   "id": "6148e6e0",
   "metadata": {},
   "source": [
    "Все пользователи в выборке уникальны"
   ]
  },
  {
   "cell_type": "markdown",
   "id": "a46283ce",
   "metadata": {},
   "source": [
    "**Рассчитываем среднее количество раундов в контрольной и тестовой выборках"
   ]
  },
  {
   "cell_type": "code",
   "execution_count": 7,
   "id": "cb210e19",
   "metadata": {},
   "outputs": [
    {
     "data": {
      "text/plain": [
       "52.45626398210291"
      ]
     },
     "execution_count": 7,
     "metadata": {},
     "output_type": "execute_result"
    }
   ],
   "source": [
    "df[df[\"version\"]==\"gate_30\"].sum_gamerounds.mean()"
   ]
  },
  {
   "cell_type": "code",
   "execution_count": 8,
   "id": "65368fcd",
   "metadata": {},
   "outputs": [
    {
     "data": {
      "text/plain": [
       "51.29877552814966"
      ]
     },
     "execution_count": 8,
     "metadata": {},
     "output_type": "execute_result"
    }
   ],
   "source": [
    "\n",
    "df[df[\"version\"]==\"gate_40\"].sum_gamerounds.mean()\n"
   ]
  },
  {
   "cell_type": "markdown",
   "id": "dfe4436a",
   "metadata": {},
   "source": [
    "**Рассчитываем количество вернувшихся пользователей через сутки в обеих группах:"
   ]
  },
  {
   "cell_type": "code",
   "execution_count": 9,
   "id": "4cdb9bc3",
   "metadata": {},
   "outputs": [
    {
     "data": {
      "text/plain": [
       "20034"
      ]
     },
     "execution_count": 9,
     "metadata": {},
     "output_type": "execute_result"
    }
   ],
   "source": [
    "K_С1=df[(df.version==\"gate_30\") & (df.retention_1 == 1)].retention_1.count()\n",
    "K_С1"
   ]
  },
  {
   "cell_type": "code",
   "execution_count": 10,
   "id": "c164e9f7",
   "metadata": {},
   "outputs": [
    {
     "data": {
      "text/plain": [
       "20119"
      ]
     },
     "execution_count": 10,
     "metadata": {},
     "output_type": "execute_result"
    }
   ],
   "source": [
    "K_T1=df[(df.version==\"gate_40\") & (df.retention_1 == 1)].retention_1.count()\n",
    "K_T1"
   ]
  },
  {
   "cell_type": "markdown",
   "id": "cc983797",
   "metadata": {},
   "source": [
    "**Рассчитываем количество вернувшихся пользователей через 7 суток в обеих группах:"
   ]
  },
  {
   "cell_type": "code",
   "execution_count": 11,
   "id": "b21de50b",
   "metadata": {},
   "outputs": [
    {
     "data": {
      "text/plain": [
       "8502"
      ]
     },
     "execution_count": 11,
     "metadata": {},
     "output_type": "execute_result"
    }
   ],
   "source": [
    "K_С7=df[(df.version==\"gate_30\") & (df.retention_7 == 1)].retention_7.count()\n",
    "K_С7"
   ]
  },
  {
   "cell_type": "code",
   "execution_count": 12,
   "id": "92366d9f",
   "metadata": {},
   "outputs": [
    {
     "data": {
      "text/plain": [
       "8279"
      ]
     },
     "execution_count": 12,
     "metadata": {},
     "output_type": "execute_result"
    }
   ],
   "source": [
    "K_T7=df[(df.version==\"gate_40\") & (df.retention_7 == 1)].retention_7.count()\n",
    "K_T7"
   ]
  },
  {
   "cell_type": "markdown",
   "id": "705a6ee2",
   "metadata": {},
   "source": [
    "**Рассчитываем общее количество пользователей в каждой из двух групп:"
   ]
  },
  {
   "cell_type": "code",
   "execution_count": 13,
   "id": "4e30f77f",
   "metadata": {},
   "outputs": [
    {
     "data": {
      "text/plain": [
       "44700"
      ]
     },
     "execution_count": 13,
     "metadata": {},
     "output_type": "execute_result"
    }
   ],
   "source": [
    "n_c= df[df.version==\"gate_30\" ].version.count()\n",
    "n_c"
   ]
  },
  {
   "cell_type": "code",
   "execution_count": 14,
   "id": "a60d6305",
   "metadata": {},
   "outputs": [
    {
     "data": {
      "text/plain": [
       "45489"
      ]
     },
     "execution_count": 14,
     "metadata": {},
     "output_type": "execute_result"
    }
   ],
   "source": [
    "n_t= df[df.version==\"gate_40\" ].version.count()\n",
    "n_t"
   ]
  },
  {
   "cell_type": "markdown",
   "id": "17a5cceb",
   "metadata": {},
   "source": [
    "**Проведем Z-тест для  пользователей вернувшихся на 1 день"
   ]
  },
  {
   "cell_type": "code",
   "execution_count": 15,
   "id": "ba24850c",
   "metadata": {},
   "outputs": [
    {
     "name": "stdout",
     "output_type": "stream",
     "text": [
      "Results are  z_score =1.784, pvalue = 0.074\n"
     ]
    }
   ],
   "source": [
    "from statsmodels.stats import proportion\n",
    "z_score, z_pvalue = proportion.proportions_ztest(np.array([K_С1, K_T1]),\n",
    "np.array([n_c, n_t]))\n",
    "print('Results are ','z_score =%.3f, pvalue = %.3f'%(z_score, z_pvalue))"
   ]
  },
  {
   "cell_type": "raw",
   "id": "6da786cb",
   "metadata": {},
   "source": [
    "*pvalue = 0.074>0.05- статистически значимых различий между группами нет"
   ]
  },
  {
   "cell_type": "markdown",
   "id": "a7ec1625",
   "metadata": {},
   "source": [
    "**Проведем Z-тест для  пользователей вернувшихся на 7 день"
   ]
  },
  {
   "cell_type": "code",
   "execution_count": 16,
   "id": "9d24aeb6",
   "metadata": {},
   "outputs": [
    {
     "name": "stdout",
     "output_type": "stream",
     "text": [
      "Results are  z_score =3.164, pvalue = 0.002\n"
     ]
    }
   ],
   "source": [
    "from statsmodels.stats import proportion\n",
    "z_score, z_pvalue = proportion.proportions_ztest(np.array([K_С7, K_T7]),\n",
    "np.array([n_c, n_t]))\n",
    "print('Results are ','z_score =%.3f, pvalue = %.3f'%(z_score, z_pvalue))"
   ]
  },
  {
   "cell_type": "markdown",
   "id": "f309ebbc",
   "metadata": {},
   "source": [
    "*pvalue = 0.002< 0.05- статистически значимые различия между группами есть, **не в пользу новой версии- количество пользователей 7 дня меньше, при том что размер тестовой группы больше"
   ]
  },
  {
   "cell_type": "markdown",
   "id": "00d2d487",
   "metadata": {},
   "source": [
    "**Тест Хи-квадрат"
   ]
  },
  {
   "cell_type": "code",
   "execution_count": 17,
   "id": "43a2782b",
   "metadata": {},
   "outputs": [
    {
     "name": "stdout",
     "output_type": "stream",
     "text": [
      "Results are  chisq =3.183, pvalue = 0.074\n"
     ]
    }
   ],
   "source": [
    "chisq, pvalue, table = proportion.proportions_chisquare(np.array([K_С1, K_T1]),\n",
    "np.array([n_c, n_t]))\n",
    "\n",
    "print('Results are ','chisq =%.3f, pvalue = %.3f'%(chisq, pvalue))"
   ]
  },
  {
   "cell_type": "code",
   "execution_count": 18,
   "id": "1f8a87f7",
   "metadata": {},
   "outputs": [
    {
     "name": "stdout",
     "output_type": "stream",
     "text": [
      "Results are  chisq =10.013, pvalue = 0.002\n"
     ]
    }
   ],
   "source": [
    "chisq, pvalue, table = proportion.proportions_chisquare(np.array([K_С7, K_T7]),\n",
    "np.array([n_c, n_t]))\n",
    "print('Results are ','chisq =%.3f, pvalue = %.3f'%(chisq, pvalue))"
   ]
  },
  {
   "cell_type": "markdown",
   "id": "6187570c",
   "metadata": {},
   "source": [
    "*Тест показал аналогичные результаты"
   ]
  },
  {
   "cell_type": "markdown",
   "id": "6fc8836b",
   "metadata": {},
   "source": [
    "**Сравним группы по количеству раундов"
   ]
  },
  {
   "cell_type": "markdown",
   "id": "b5ac078a",
   "metadata": {},
   "source": [
    "Проверяем на нормальность"
   ]
  },
  {
   "cell_type": "code",
   "execution_count": 19,
   "id": "d359f906",
   "metadata": {},
   "outputs": [
    {
     "data": {
      "text/plain": [
       "0         3\n",
       "1        38\n",
       "6         0\n",
       "11        0\n",
       "13       39\n",
       "         ..\n",
       "90179    14\n",
       "90180     7\n",
       "90182    21\n",
       "90183    10\n",
       "90186    28\n",
       "Name: sum_gamerounds, Length: 44700, dtype: int64"
      ]
     },
     "execution_count": 19,
     "metadata": {},
     "output_type": "execute_result"
    }
   ],
   "source": [
    "data_С=df[df.version==\"gate_30\"].sum_gamerounds\n",
    "\n",
    "\n"
   ]
  },
  {
   "cell_type": "code",
   "execution_count": 20,
   "id": "ba9e0bf5",
   "metadata": {},
   "outputs": [
    {
     "data": {
      "text/plain": [
       "KstestResult(statistic=0.8724176532867202, pvalue=0.0)"
      ]
     },
     "execution_count": 20,
     "metadata": {},
     "output_type": "execute_result"
    }
   ],
   "source": [
    "kstest(data_С, 'norm')"
   ]
  },
  {
   "cell_type": "code",
   "execution_count": 21,
   "id": "f33bd7d0",
   "metadata": {},
   "outputs": [
    {
     "data": {
      "text/plain": [
       "2        165\n",
       "3          1\n",
       "4        179\n",
       "5        187\n",
       "7          2\n",
       "        ... \n",
       "90181     10\n",
       "90184     97\n",
       "90185     30\n",
       "90187     51\n",
       "90188     16\n",
       "Name: sum_gamerounds, Length: 45489, dtype: int64"
      ]
     },
     "execution_count": 21,
     "metadata": {},
     "output_type": "execute_result"
    }
   ],
   "source": [
    "data_T=df[df.version==\"gate_40\"].sum_gamerounds\n"
   ]
  },
  {
   "cell_type": "code",
   "execution_count": 22,
   "id": "9f0dbae5",
   "metadata": {},
   "outputs": [
    {
     "data": {
      "text/plain": [
       "KstestResult(statistic=0.8707186187388001, pvalue=0.0)"
      ]
     },
     "execution_count": 22,
     "metadata": {},
     "output_type": "execute_result"
    }
   ],
   "source": [
    "kstest(data_T, 'norm')"
   ]
  },
  {
   "cell_type": "markdown",
   "id": "c24e3ee2",
   "metadata": {},
   "source": [
    "*Оба распределения не нормальны"
   ]
  },
  {
   "cell_type": "code",
   "execution_count": 23,
   "id": "b895d3cb",
   "metadata": {},
   "outputs": [
    {
     "data": {
      "text/plain": [
       "MannwhitneyuResult(statistic=1024331250.5, pvalue=0.05020880772044255)"
      ]
     },
     "execution_count": 23,
     "metadata": {},
     "output_type": "execute_result"
    }
   ],
   "source": [
    "mw_stats = mannwhitneyu(x=data_С.values, y = data_T.values)\n",
    "\n",
    "mw_stats"
   ]
  },
  {
   "cell_type": "markdown",
   "id": "fc50f85c",
   "metadata": {},
   "source": [
    "*pvalue=0.05 равно критическому, проверим гипотезу методом бутстрап"
   ]
  },
  {
   "cell_type": "markdown",
   "id": "42a3618a",
   "metadata": {},
   "source": [
    "**Бутстрап"
   ]
  },
  {
   "cell_type": "code",
   "execution_count": 24,
   "id": "1be2995f",
   "metadata": {},
   "outputs": [],
   "source": [
    "import numpy as np\n",
    "import pandas as pd\n",
    "from scipy.stats import *\n",
    "import matplotlib.pyplot as plt\n",
    "from tqdm.auto import tqdm #для красивой полоски\n",
    "\n",
    "plt.style.use('ggplot')\n",
    "\n",
    "def get_bootstrap(\n",
    "    data_column_1, # числовые значения первой выборки\n",
    "    data_column_2, # числовые значения второй выборки\n",
    "    boot_it = 1000, # количество бутстрэп-подвыборок\n",
    "    statistic = np.mean, # интересующая нас статистика\n",
    "    bootstrap_conf_level = 0.95 # уровень значимости\n",
    "):\n",
    "    boot_data = []\n",
    "    for i in tqdm(range(boot_it)): # извлекаем подвыборки\n",
    "        samples_1 = data_column_1.sample(\n",
    "            len(data_column_1), \n",
    "            replace = True # параметр возвращения\n",
    "        ).values\n",
    "        \n",
    "        samples_2 = data_column_2.sample(\n",
    "            len(data_column_1), \n",
    "            replace = True\n",
    "        ).values\n",
    "        \n",
    "        boot_data.append(statistic(samples_1)-statistic(samples_2)) # mean() - применяем статистику\n",
    "        \n",
    "    pd_boot_data = pd.DataFrame(boot_data)\n",
    "        \n",
    "    left_quant = (1 - bootstrap_conf_level)/2\n",
    "    right_quant = 1 - (1 - bootstrap_conf_level) / 2\n",
    "    quants = pd_boot_data.quantile([left_quant, right_quant])\n",
    "        \n",
    "    p_1 = norm.cdf(\n",
    "        x = 0, \n",
    "        loc = np.mean(boot_data), \n",
    "        scale = np.std(boot_data)\n",
    "    )\n",
    "    p_2 = norm.cdf(\n",
    "        x = 0, \n",
    "        loc = -np.mean(boot_data), \n",
    "        scale = np.std(boot_data)\n",
    "    )\n",
    "    p_value = min(p_1, p_2) * 2\n",
    "        \n",
    "    # Визуализация\n",
    "    _, _, bars = plt.hist(pd_boot_data[0], bins = 50)\n",
    "    for bar in bars:\n",
    "        if bar.get_x() <= quants.iloc[0][0] or bar.get_x() >= quants.iloc[1][0]:\n",
    "            bar.set_facecolor('red')\n",
    "        else: \n",
    "            bar.set_facecolor('grey')\n",
    "            bar.set_edgecolor('black')\n",
    "    \n",
    "    plt.style.use('ggplot')\n",
    "    plt.vlines(quants,ymin=0,ymax=50,linestyle='--')\n",
    "    plt.xlabel('boot_data')\n",
    "    plt.ylabel('frequency')\n",
    "    plt.title(\"Histogram of boot_data\")\n",
    "    plt.show()\n",
    "       \n",
    "    return {\"p_value\": p_value}"
   ]
  },
  {
   "cell_type": "code",
   "execution_count": 25,
   "id": "f8cf3695",
   "metadata": {},
   "outputs": [
    {
     "data": {
      "application/vnd.jupyter.widget-view+json": {
       "model_id": "a60d4d59c09243cfbc97956fc4a7d9f2",
       "version_major": 2,
       "version_minor": 0
      },
      "text/plain": [
       "  0%|          | 0/1000 [00:00<?, ?it/s]"
      ]
     },
     "metadata": {},
     "output_type": "display_data"
    },
    {
     "data": {
      "image/png": "[encoded data removed]",
      "text/plain": [
       "<Figure size 640x480 with 1 Axes>"
      ]
     },
     "metadata": {},
     "output_type": "display_data"
    },
    {
     "data": {
      "text/plain": [
       "{'p_value': 0.3708708693582019}"
      ]
     },
     "execution_count": 25,
     "metadata": {},
     "output_type": "execute_result"
    }
   ],
   "source": [
    "get_bootstrap(data_С, data_T)"
   ]
  },
  {
   "cell_type": "markdown",
   "id": "93e8bcff",
   "metadata": {},
   "source": [
    "*Расчеты данным методом показывают, что статистически значимых различий между двумя группами нет."
   ]
  },
  {
   "cell_type": "markdown",
   "id": "f742d95b",
   "metadata": {},
   "source": [
    "**Рекомендации: Учитывая результаты тестов по различным параметрам (возврат на 1и 7 дни и количество раундов), рекомендую не выкатывать новую версию игры"
   ]
  }
 ],
 "metadata": {
  "kernelspec": {
   "display_name": "Python 3 (ipykernel)",
   "language": "python",
   "name": "python3"
  },
  "language_info": {
   "codemirror_mode": {
    "name": "ipython",
    "version": 3
   },
   "file_extension": ".py",
   "mimetype": "text/x-python",
   "name": "python",
   "nbconvert_exporter": "python",
   "pygments_lexer": "ipython3",
   "version": "3.9.13"
  }
 },
 "nbformat": 4,
 "nbformat_minor": 5
}
