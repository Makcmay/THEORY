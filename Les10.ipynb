{
 "cells": [
  {
   "cell_type": "code",
   "execution_count": 2,
   "metadata": {},
   "outputs": [],
   "source": [
    "import numpy as np\n",
    "import matplotlib.pyplot as plt\n",
    "import scipy.stats as st"
   ]
  },
  {
   "cell_type": "code",
   "execution_count": 3,
   "metadata": {},
   "outputs": [],
   "source": [
    "y1 = np.array([70, 50, 65, 60, 75, 67, 74])\n",
    "y2 = np.array([80, 74, 90, 70, 75, 65, 85])\n",
    "y3 = np.array([148, 142, 140, 150, 160, 170, 155])\n",
    "\n",
    "n = 21\n",
    "k = 3\n"
   ]
  },
  {
   "attachments": {},
   "cell_type": "markdown",
   "metadata": {},
   "source": [
    "для определения межгруповой дисперсии нужны средние значения по группам"
   ]
  },
  {
   "cell_type": "code",
   "execution_count": 4,
   "metadata": {},
   "outputs": [
    {
     "data": {
      "text/plain": [
       "(65.85714285714286, 77.0, 152.14285714285714)"
      ]
     },
     "execution_count": 4,
     "metadata": {},
     "output_type": "execute_result"
    }
   ],
   "source": [
    "y_mean1 = np.mean(y1)\n",
    "y_mean2 = np.mean(y2)\n",
    "y_mean3 = np.mean(y3)\n",
    "\n",
    "y_mean1, y_mean2, y_mean3"
   ]
  },
  {
   "cell_type": "code",
   "execution_count": 5,
   "metadata": {},
   "outputs": [
    {
     "data": {
      "text/plain": [
       "array([[ 70,  50,  65,  60,  75,  67,  74],\n",
       "       [ 80,  74,  90,  70,  75,  65,  85],\n",
       "       [148, 142, 140, 150, 160, 170, 155]])"
      ]
     },
     "execution_count": 5,
     "metadata": {},
     "output_type": "execute_result"
    }
   ],
   "source": [
    "total = np.array([y1, y2, y3])\n",
    "total"
   ]
  },
  {
   "cell_type": "code",
   "execution_count": 6,
   "metadata": {},
   "outputs": [
    {
     "data": {
      "text/plain": [
       "98.33333333333333"
      ]
     },
     "execution_count": 6,
     "metadata": {},
     "output_type": "execute_result"
    }
   ],
   "source": [
    "y_mean_total = np.mean(total)\n",
    "y_mean_total"
   ]
  },
  {
   "cell_type": "markdown",
   "metadata": {},
   "source": [
    "Сумма квадратов отклонений наблюдений от общего среднего"
   ]
  },
  {
   "cell_type": "code",
   "execution_count": 7,
   "metadata": {},
   "outputs": [
    {
     "data": {
      "text/plain": [
       "32400.66666666667"
      ]
     },
     "execution_count": 7,
     "metadata": {},
     "output_type": "execute_result"
    }
   ],
   "source": [
    "np.sum((total - y_mean_total)**2) # S общ^2"
   ]
  },
  {
   "attachments": {},
   "cell_type": "markdown",
   "metadata": {},
   "source": [
    "Сумма квадратов отклонений средних групповых значений от общего среднего"
   ]
  },
  {
   "cell_type": "code",
   "execution_count": 8,
   "metadata": {},
   "outputs": [
    {
     "data": {
      "text/plain": [
       "30836.952380952374"
      ]
     },
     "execution_count": 8,
     "metadata": {},
     "output_type": "execute_result"
    }
   ],
   "source": [
    "S_f = np.sum(((y_mean1 -y_mean_total)**2) + ((y_mean2 -y_mean_total)**2) + ((y_mean3 -y_mean_total)**2)) * 7 #число наблюдений в каждой группе равно семи\n",
    "S_f # S - факторное"
   ]
  },
  {
   "attachments": {},
   "cell_type": "markdown",
   "metadata": {},
   "source": [
    "Остаточная сумма квадратов отклонений"
   ]
  },
  {
   "cell_type": "code",
   "execution_count": 9,
   "metadata": {},
   "outputs": [
    {
     "data": {
      "text/plain": [
       "1563.7142857142856"
      ]
     },
     "execution_count": 9,
     "metadata": {},
     "output_type": "execute_result"
    }
   ],
   "source": [
    "S_ost = np.sum(((y1 -y_mean1)**2) + ((y2 -y_mean2)**2) + ((y3 -y_mean3)**2))\n",
    "S_ost"
   ]
  },
  {
   "cell_type": "code",
   "execution_count": 10,
   "metadata": {},
   "outputs": [
    {
     "data": {
      "text/plain": [
       "32400.66666666666"
      ]
     },
     "execution_count": 10,
     "metadata": {},
     "output_type": "execute_result"
    }
   ],
   "source": [
    "S_f + S_ost"
   ]
  },
  {
   "cell_type": "code",
   "execution_count": 11,
   "metadata": {},
   "outputs": [
    {
     "data": {
      "text/plain": [
       "15418.476190476187"
      ]
     },
     "execution_count": 11,
     "metadata": {},
     "output_type": "execute_result"
    }
   ],
   "source": [
    "D_f = S_f / (k - 1)\n",
    "D_f # факторная дисперсия"
   ]
  },
  {
   "cell_type": "code",
   "execution_count": 12,
   "metadata": {},
   "outputs": [
    {
     "data": {
      "text/plain": [
       "86.87301587301586"
      ]
     },
     "execution_count": 12,
     "metadata": {},
     "output_type": "execute_result"
    }
   ],
   "source": [
    "D_ost = S_ost / (n - k)\n",
    "D_ost #остаточная дисперсия"
   ]
  },
  {
   "attachments": {},
   "cell_type": "markdown",
   "metadata": {},
   "source": [
    "Наблюдаемо значение критерия ФИшера"
   ]
  },
  {
   "cell_type": "code",
   "execution_count": 13,
   "metadata": {},
   "outputs": [
    {
     "data": {
      "text/plain": [
       "177.48291613374747"
      ]
     },
     "execution_count": 13,
     "metadata": {},
     "output_type": "execute_result"
    }
   ],
   "source": [
    "F_n = D_f / D_ost\n",
    "F_n"
   ]
  },
  {
   "attachments": {},
   "cell_type": "markdown",
   "metadata": {},
   "source": [
    "Сравнить наблюдаемое значение с табличным\n",
    "\n",
    "F_t = 3.55смо трим в таблице относительно степенй свободы числителя и знаменателя\n",
    "\n",
    "F_n > F_t -> H1 статистически значимые различия есть\n"
   ]
  },
  {
   "cell_type": "code",
   "execution_count": 14,
   "metadata": {},
   "outputs": [
    {
     "data": {
      "text/plain": [
       "F_onewayResult(statistic=177.48291613374704, pvalue=1.420466900107174e-12)"
      ]
     },
     "execution_count": 14,
     "metadata": {},
     "output_type": "execute_result"
    }
   ],
   "source": [
    "f = st.f_oneway(y1, y2, y3)\n",
    "f #функция однофакторного дисперсионного анализа"
   ]
  },
  {
   "attachments": {},
   "cell_type": "markdown",
   "metadata": {},
   "source": [
    "statistic=177.48291613374704 -> F_n\n",
    "pvalue=1.420466900107174e-12 очень маленькое < alpha -> H1"
   ]
  },
  {
   "attachments": {},
   "cell_type": "markdown",
   "metadata": {},
   "source": [
    "Post hoc tes Tukey"
   ]
  },
  {
   "cell_type": "code",
   "execution_count": 15,
   "metadata": {},
   "outputs": [],
   "source": [
    "from statsmodels.stats.multicomp import pairwise_tukeyhsd\n",
    "import pandas as pd"
   ]
  },
  {
   "cell_type": "code",
   "execution_count": 16,
   "metadata": {},
   "outputs": [
    {
     "name": "stdout",
     "output_type": "stream",
     "text": [
      "    score       group\n",
      "0      70   accounter\n",
      "1      50   accounter\n",
      "2      65   accounter\n",
      "3      60   accounter\n",
      "4      75   accounter\n",
      "5      67   accounter\n",
      "6      74   accounter\n",
      "7      80      lawyer\n",
      "8      74      lawyer\n",
      "9      90      lawyer\n",
      "10     70      lawyer\n",
      "11     75      lawyer\n",
      "12     65      lawyer\n",
      "13     85      lawyer\n",
      "14    148  programmer\n",
      "15    142  programmer\n",
      "16    140  programmer\n",
      "17    150  programmer\n",
      "18    160  programmer\n",
      "19    170  programmer\n",
      "20    155  programmer\n",
      "    Multiple Comparison of Means - Tukey HSD, FWER=0.05    \n",
      "===========================================================\n",
      "  group1    group2   meandiff p-adj   lower   upper  reject\n",
      "-----------------------------------------------------------\n",
      "accounter     lawyer  11.1429 0.0918 -1.5722 23.8579  False\n",
      "accounter programmer  86.2857    0.0 73.5707 99.0007   True\n",
      "   lawyer programmer  75.1429    0.0 62.4278 87.8579   True\n",
      "-----------------------------------------------------------\n"
     ]
    }
   ],
   "source": [
    "df = pd.DataFrame({'score': [70, 50, 65, 60, 75, 67, 74,\n",
    "                            80, 74, 90, 70, 75, 65, 85,\n",
    "                            148, 142, 140, 150, 160, 170, 155],\n",
    "                'group' : np.repeat(['accounter', 'lawyer', 'programmer'], repeats=7)})\n",
    "tukey = pairwise_tukeyhsd(endog =df['score'],\n",
    "                        groups= df['group'],\n",
    "                        alpha = 0.05)\n",
    "print(df)\n",
    "print(tukey)"
   ]
  },
  {
   "attachments": {},
   "cell_type": "markdown",
   "metadata": {},
   "source": [
    "accounter     lawyer  11.1429 0.0918 -1.5722 23.8579  False различия не найдены \n",
    "pvalue (0.0918) > alpha (0.05)\n",
    "\n",
    "accounter programmer  86.2857    0.0 73.5707 99.0007   True\n",
    "   lawyer programmer  75.1429    0.0 62.4278 87.8579   True\n",
    "\n",
    "различия найдены верна альтернативная гипотеза"
   ]
  },
  {
   "attachments": {},
   "cell_type": "markdown",
   "metadata": {},
   "source": [
    "Двухфакторный дисперсионный анализ"
   ]
  },
  {
   "cell_type": "code",
   "execution_count": 17,
   "metadata": {},
   "outputs": [
    {
     "data": {
      "text/plain": [
       "58.0"
      ]
     },
     "execution_count": 17,
     "metadata": {},
     "output_type": "execute_result"
    }
   ],
   "source": [
    "y111 = 57\n",
    "y112 = 59\n",
    "y11 = (y111 + y112)/2\n",
    "y11"
   ]
  },
  {
   "cell_type": "code",
   "execution_count": 18,
   "metadata": {},
   "outputs": [
    {
     "data": {
      "text/plain": [
       "57.0"
      ]
     },
     "execution_count": 18,
     "metadata": {},
     "output_type": "execute_result"
    }
   ],
   "source": [
    "y121 = 56\n",
    "y122 = 58\n",
    "y12 = (y121 + y122)/2\n",
    "y12"
   ]
  },
  {
   "cell_type": "code",
   "execution_count": 19,
   "metadata": {},
   "outputs": [
    {
     "data": {
      "text/plain": [
       "33.0"
      ]
     },
     "execution_count": 19,
     "metadata": {},
     "output_type": "execute_result"
    }
   ],
   "source": [
    "y211 = 32\n",
    "y212 = 34\n",
    "y21 = (y211 + y212)/2\n",
    "y21"
   ]
  },
  {
   "cell_type": "code",
   "execution_count": 20,
   "metadata": {},
   "outputs": [
    {
     "data": {
      "text/plain": [
       "71.0"
      ]
     },
     "execution_count": 20,
     "metadata": {},
     "output_type": "execute_result"
    }
   ],
   "source": [
    "y221 = 71\n",
    "y222 = 71\n",
    "y22 = (y221 + y222)/2\n",
    "y22"
   ]
  },
  {
   "cell_type": "code",
   "execution_count": 21,
   "metadata": {},
   "outputs": [
    {
     "data": {
      "text/plain": [
       "(57.5, 52.0, 45.5, 64.0)"
      ]
     },
     "execution_count": 21,
     "metadata": {},
     "output_type": "execute_result"
    }
   ],
   "source": [
    "y_mean_A1 = (y11 + y12)/2\n",
    "y_mean_A2 = (y21 + y22)/2\n",
    "y_mean_B1 = (y11 + y21)/2\n",
    "y_mean_B2 = (y12 + y22)/2\n",
    "\n",
    "y_mean_A1, y_mean_A2, y_mean_B1, y_mean_B2"
   ]
  },
  {
   "cell_type": "code",
   "execution_count": 22,
   "metadata": {},
   "outputs": [
    {
     "data": {
      "text/plain": [
       "54.75"
      ]
     },
     "execution_count": 22,
     "metadata": {},
     "output_type": "execute_result"
    }
   ],
   "source": [
    "y_mean = np.mean(y_mean_A1 + y_mean_A2 + y_mean_B1 + y_mean_B2)/4\n",
    "y_mean"
   ]
  },
  {
   "attachments": {},
   "cell_type": "markdown",
   "metadata": {},
   "source": [
    "## ANOVA\n",
    "\n",
    "SSt = SSA + SSB + SSAB +SSE сумма кватратов отклонений общая = сумма квадратов отклонений воздействия фактора А + сумма квадратов откланений фактора В + сумма квадратов отклонений взамидейсвия факторов АВ + сумма квадратов отклонеия случайной ошибки\n",
    "SSt  = sum((yijk)**2) - a*b*n*(y_mean**2) нужно  из суммы квадратов каждого значения вычесть произведение а - количество уровней фактоа А(2), b -  количество уровней фактоа B(2), n - количество репликаций(опытов, повторений)\n",
    "SSt = 1511.5\n",
    "\n",
    "сумма квадратов отклонений воздействия фактора А\n",
    "SSA = a*n*((y_mean_A1**2)+(y_mean_A2**2)) - a*b*n*(y_mean)**2 или a*n*sum((y_mean_A)**2) - a*b*n*(y_mean)**2 = 60.5\n",
    "\n",
    "сумма квадратов отклонений воздействия фактора B\n",
    "SSB= a*n*((y_mean_B1**2)+(y_mean_B2**2)) - a*b*n*(y_mean)**2 или \n",
    "a*n*sum((y_mean_B)**2) - a*b*n*(y_mean)**2 = 684.5\n",
    "\n",
    "квадратов отклонений взамидейсвия факторов АВ\n",
    "SSAB = n * (sum((yij_mean)**2)) - a*b*n*(y_mean**2) - SSA - SSB = \n",
    "n * ((y_meanA1)**2) + (y_meanA2)**2) + (y_meanB1)**2) + (y_meanB2)**2)) - a*b*n*(y_mean**2) - SSA - SSB = 760.5\n",
    "\n",
    "сумма квадратов отклонеия случайной ошибки\n",
    "SSE = SSt - SSA - SSB - SSAB = 1511.5 - 60.5 - 684.5 - 760.5 = 6\n",
    "\n"
   ]
  },
  {
   "cell_type": "code",
   "execution_count": 23,
   "metadata": {},
   "outputs": [],
   "source": [
    "a = 2 #уровень фактора А\n",
    "b = 2 #уровень фактора В\n",
    "n = k = 2 # число репликаций\n",
    "\n",
    "dfA = (a-1) #степени свободы фактора А\n",
    "dfB = (b-1) \n",
    "dfAB = (a-1) * (b-1) \n",
    "dfE = a * b * (n-1)\n"
   ]
  },
  {
   "attachments": {},
   "cell_type": "markdown",
   "metadata": {},
   "source": [
    "Расчитать сколько квадратных отклонений приходится на одну степень свободы"
   ]
  },
  {
   "cell_type": "code",
   "execution_count": 24,
   "metadata": {},
   "outputs": [
    {
     "data": {
      "text/plain": [
       "(60.5, 684.5, 760.5, 1.5)"
      ]
     },
     "execution_count": 24,
     "metadata": {},
     "output_type": "execute_result"
    }
   ],
   "source": [
    "SSA = 60.5\n",
    "SSB = 684.5\n",
    "SSAB = 760.5\n",
    "SSE = 6\n",
    "\n",
    "MSA = SSA / dfA\n",
    "MSB = SSB / dfB\n",
    "MSAB = SSAB / dfAB\n",
    "MSE = SSE / dfE\n",
    "\n",
    "MSA, MSB, MSAB, MSE"
   ]
  },
  {
   "attachments": {},
   "cell_type": "markdown",
   "metadata": {},
   "source": [
    "Считаем критерий Фишера"
   ]
  },
  {
   "cell_type": "code",
   "execution_count": 25,
   "metadata": {},
   "outputs": [
    {
     "data": {
      "text/plain": [
       "(40.333333333333336, 456.3333333333333, 507.0)"
      ]
     },
     "execution_count": 25,
     "metadata": {},
     "output_type": "execute_result"
    }
   ],
   "source": [
    "FA = MSA / MSE\n",
    "FB = MSB / MSE\n",
    "FAB = MSAB / MSE\n",
    "\n",
    "F_t = 7.71 #табличное\n",
    "\n",
    "FA, FB, FAB"
   ]
  },
  {
   "attachments": {},
   "cell_type": "markdown",
   "metadata": {},
   "source": [
    "все значения  > табличного(критического) -> H1, статичстически значимые различия найдены"
   ]
  },
  {
   "cell_type": "code",
   "execution_count": 26,
   "metadata": {},
   "outputs": [],
   "source": [
    "import statsmodels.api as sm\n",
    "from statsmodels.formula.api import ols\n",
    "\n"
   ]
  },
  {
   "cell_type": "code",
   "execution_count": 27,
   "metadata": {},
   "outputs": [
    {
     "data": {
      "text/plain": [
       "array(['low', 'low', 'low', 'low', 'high', 'high', 'high', 'high'],\n",
       "      dtype='<U4')"
      ]
     },
     "execution_count": 27,
     "metadata": {},
     "output_type": "execute_result"
    }
   ],
   "source": [
    "fA = np.array([\"low\",\"low\",\"low\",\"low\",\"high\",\"high\",\"high\",\"high\"])\n",
    "fA"
   ]
  },
  {
   "cell_type": "code",
   "execution_count": 28,
   "metadata": {},
   "outputs": [
    {
     "data": {
      "text/plain": [
       "array(['low', 'low', 'high', 'high', 'low', 'low', 'high', 'high'],\n",
       "      dtype='<U4')"
      ]
     },
     "execution_count": 28,
     "metadata": {},
     "output_type": "execute_result"
    }
   ],
   "source": [
    "fB = np.array([\"low\",\"low\",\"high\",\"high\",\"low\",\"low\",\"high\",\"high\"])\n",
    "fB"
   ]
  },
  {
   "cell_type": "code",
   "execution_count": 29,
   "metadata": {},
   "outputs": [
    {
     "data": {
      "text/plain": [
       "array([57, 59, 56, 58, 32, 34, 71, 71])"
      ]
     },
     "execution_count": 29,
     "metadata": {},
     "output_type": "execute_result"
    }
   ],
   "source": [
    "values = np.array([57, 59, 56, 58, 32, 34, 71, 71])\n",
    "values"
   ]
  },
  {
   "cell_type": "code",
   "execution_count": 30,
   "metadata": {},
   "outputs": [
    {
     "data": {
      "text/html": [
       "<div>\n",
       "<style scoped>\n",
       "    .dataframe tbody tr th:only-of-type {\n",
       "        vertical-align: middle;\n",
       "    }\n",
       "\n",
       "    .dataframe tbody tr th {\n",
       "        vertical-align: top;\n",
       "    }\n",
       "\n",
       "    .dataframe thead th {\n",
       "        text-align: right;\n",
       "    }\n",
       "</style>\n",
       "<table border=\"1\" class=\"dataframe\">\n",
       "  <thead>\n",
       "    <tr style=\"text-align: right;\">\n",
       "      <th></th>\n",
       "      <th>fA</th>\n",
       "      <th>fB</th>\n",
       "      <th>values</th>\n",
       "    </tr>\n",
       "  </thead>\n",
       "  <tbody>\n",
       "    <tr>\n",
       "      <th>0</th>\n",
       "      <td>low</td>\n",
       "      <td>low</td>\n",
       "      <td>57</td>\n",
       "    </tr>\n",
       "    <tr>\n",
       "      <th>1</th>\n",
       "      <td>low</td>\n",
       "      <td>low</td>\n",
       "      <td>59</td>\n",
       "    </tr>\n",
       "    <tr>\n",
       "      <th>2</th>\n",
       "      <td>low</td>\n",
       "      <td>high</td>\n",
       "      <td>56</td>\n",
       "    </tr>\n",
       "    <tr>\n",
       "      <th>3</th>\n",
       "      <td>low</td>\n",
       "      <td>high</td>\n",
       "      <td>58</td>\n",
       "    </tr>\n",
       "    <tr>\n",
       "      <th>4</th>\n",
       "      <td>high</td>\n",
       "      <td>low</td>\n",
       "      <td>32</td>\n",
       "    </tr>\n",
       "    <tr>\n",
       "      <th>5</th>\n",
       "      <td>high</td>\n",
       "      <td>low</td>\n",
       "      <td>34</td>\n",
       "    </tr>\n",
       "    <tr>\n",
       "      <th>6</th>\n",
       "      <td>high</td>\n",
       "      <td>high</td>\n",
       "      <td>71</td>\n",
       "    </tr>\n",
       "    <tr>\n",
       "      <th>7</th>\n",
       "      <td>high</td>\n",
       "      <td>high</td>\n",
       "      <td>71</td>\n",
       "    </tr>\n",
       "  </tbody>\n",
       "</table>\n",
       "</div>"
      ],
      "text/plain": [
       "     fA    fB  values\n",
       "0   low   low      57\n",
       "1   low   low      59\n",
       "2   low  high      56\n",
       "3   low  high      58\n",
       "4  high   low      32\n",
       "5  high   low      34\n",
       "6  high  high      71\n",
       "7  high  high      71"
      ]
     },
     "execution_count": 30,
     "metadata": {},
     "output_type": "execute_result"
    }
   ],
   "source": [
    "dp = pd.DataFrame({'fA': fA, 'fB':fB, 'values':values})\n",
    "dp"
   ]
  },
  {
   "cell_type": "code",
   "execution_count": 31,
   "metadata": {},
   "outputs": [
    {
     "ename": "SyntaxError",
     "evalue": "invalid syntax (2535720959.py, line 1)",
     "output_type": "error",
     "traceback": [
      "\u001b[0;36m  Cell \u001b[0;32mIn[31], line 1\u001b[0;36m\u001b[0m\n\u001b[0;31m    строим ANOVA таблицу\u001b[0m\n\u001b[0m           ^\u001b[0m\n\u001b[0;31mSyntaxError\u001b[0m\u001b[0;31m:\u001b[0m invalid syntax\n"
     ]
    }
   ],
   "source": [
    "строим ANOVA таблицу"
   ]
  },
  {
   "cell_type": "code",
   "execution_count": null,
   "metadata": {},
   "outputs": [
    {
     "data": {
      "text/html": [
       "<div>\n",
       "<style scoped>\n",
       "    .dataframe tbody tr th:only-of-type {\n",
       "        vertical-align: middle;\n",
       "    }\n",
       "\n",
       "    .dataframe tbody tr th {\n",
       "        vertical-align: top;\n",
       "    }\n",
       "\n",
       "    .dataframe thead th {\n",
       "        text-align: right;\n",
       "    }\n",
       "</style>\n",
       "<table border=\"1\" class=\"dataframe\">\n",
       "  <thead>\n",
       "    <tr style=\"text-align: right;\">\n",
       "      <th></th>\n",
       "      <th>df</th>\n",
       "      <th>sum_sq</th>\n",
       "      <th>mean_sq</th>\n",
       "      <th>F</th>\n",
       "      <th>PR(&gt;F)</th>\n",
       "    </tr>\n",
       "  </thead>\n",
       "  <tbody>\n",
       "    <tr>\n",
       "      <th>C(fA)</th>\n",
       "      <td>1.0</td>\n",
       "      <td>60.5</td>\n",
       "      <td>60.5</td>\n",
       "      <td>40.333333</td>\n",
       "      <td>0.003150</td>\n",
       "    </tr>\n",
       "    <tr>\n",
       "      <th>C(fB)</th>\n",
       "      <td>1.0</td>\n",
       "      <td>684.5</td>\n",
       "      <td>684.5</td>\n",
       "      <td>456.333333</td>\n",
       "      <td>0.000028</td>\n",
       "    </tr>\n",
       "    <tr>\n",
       "      <th>C(fA):C(fB)</th>\n",
       "      <td>1.0</td>\n",
       "      <td>760.5</td>\n",
       "      <td>760.5</td>\n",
       "      <td>507.000000</td>\n",
       "      <td>0.000023</td>\n",
       "    </tr>\n",
       "    <tr>\n",
       "      <th>Residual</th>\n",
       "      <td>4.0</td>\n",
       "      <td>6.0</td>\n",
       "      <td>1.5</td>\n",
       "      <td>NaN</td>\n",
       "      <td>NaN</td>\n",
       "    </tr>\n",
       "  </tbody>\n",
       "</table>\n",
       "</div>"
      ],
      "text/plain": [
       "              df  sum_sq  mean_sq           F    PR(>F)\n",
       "C(fA)        1.0    60.5     60.5   40.333333  0.003150\n",
       "C(fB)        1.0   684.5    684.5  456.333333  0.000028\n",
       "C(fA):C(fB)  1.0   760.5    760.5  507.000000  0.000023\n",
       "Residual     4.0     6.0      1.5         NaN       NaN"
      ]
     },
     "execution_count": 57,
     "metadata": {},
     "output_type": "execute_result"
    }
   ],
   "source": [
    "#строим модель при помощи метола ols\n",
    "\n",
    "lm_model = ols('values ~ C(fA) * C(fB)', data=dp).fit()\n",
    "\n",
    "#строим ANOVA\n",
    "\n",
    "table = sm.stats.anova_lm(lm_model, type = 2)\n",
    "table"
   ]
  },
  {
   "attachments": {},
   "cell_type": "markdown",
   "metadata": {},
   "source": [
    "              df  sum_sq  mean_sq           F    PR(>F)\n",
    "C(fA)        1.0    60.5     60.5   40.333333  0.003150\n",
    "C(fB)        1.0   684.5    684.5  456.333333  0.000028\n",
    "C(fA):C(fB)  1.0   760.5    760.5  507.000000  0.000023\n",
    "Residual     4.0     6.0      1.5         NaN       NaN\n",
    "\n",
    "получаем все наши значения\n",
    "\n",
    "PR(>F) - это pvalue\n",
    "507.000000  0.000023 Самый большой показатель критерия фишера получился для взаимодействия факторов и тут самы маленький pvalue -> следовательно самое большое влияние оказывает взаимодействие факторов."
   ]
  }
 ],
 "metadata": {
  "kernelspec": {
   "display_name": "Python 3",
   "language": "python",
   "name": "python3"
  },
  "language_info": {
   "codemirror_mode": {
    "name": "ipython",
    "version": 3
   },
   "file_extension": ".py",
   "mimetype": "text/x-python",
   "name": "python",
   "nbconvert_exporter": "python",
   "pygments_lexer": "ipython3",
   "version": "3.9.6"
  },
  "orig_nbformat": 4
 },
 "nbformat": 4,
 "nbformat_minor": 2
}
