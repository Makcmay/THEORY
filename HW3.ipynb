{
 "cells": [
  {
   "cell_type": "code",
   "execution_count": null,
   "id": "653a817e",
   "metadata": {},
   "outputs": [
    {
     "ename": "",
     "evalue": "",
     "output_type": "error",
     "traceback": [
      "\u001b[1;31mThe kernel failed to start due to the missing module 'prompt_toolkit.formatted_text'. Consider installing this module.\n",
      "\u001b[1;31mClick <a href='https://aka.ms/kernelFailuresMissingModule'>here</a> for more info."
     ]
    }
   ],
   "source": [
    "import numpy as np\n",
    "import pandas as pd"
   ]
  },
  {
   "attachments": {},
   "cell_type": "markdown",
   "id": "c0db44f8",
   "metadata": {},
   "source": [
    "Даны значения зарплат из выборки выпускников: 100, 80, 75, 77, 89, 33, 45, 25, 65, 17, 30, 24, 57, 55, 70, 75, 65, 84, 90, 150. Посчитать (желательно без использования статистических методов наподобие std, var, mean) среднее арифметическое, среднее квадратичное отклонение, смещенную и несмещенную оценки дисперсий для данной выборки."
   ]
  },
  {
   "cell_type": "code",
   "execution_count": 2,
   "id": "e46db8f0",
   "metadata": {},
   "outputs": [],
   "source": [
    "arr = np.array([100, 80, 75, 77, 89, 33, 45, 25, 65, 17, 30, 24, 57, 55, 70, 75, 65, 84, 90, 150])\n",
    "arr1 = np.sort(arr)"
   ]
  },
  {
   "cell_type": "code",
   "execution_count": 3,
   "id": "ec098902",
   "metadata": {},
   "outputs": [
    {
     "name": "stdout",
     "output_type": "stream",
     "text": [
      "несмещенная: 31.62460734101981\n",
      "смещенная: 30.823854398825592\n"
     ]
    }
   ],
   "source": [
    "print('несмещенная:', np.std(arr1, ddof=1)) #СКО\n",
    "print('смещенная:', np.std(arr1, ddof=0))"
   ]
  },
  {
   "attachments": {},
   "cell_type": "markdown",
   "id": "f7bbb5aa",
   "metadata": {},
   "source": [
    "элемент минус среднее занчение 100-65.3 и взоводим в квадрат\n",
    "1204.09 216.09 94.09 136.89 561.69 1043.29 412.09 1624.09 0.09 2332.89 1246.09 1705.69 68.89 22.09 94.09 0.09 349.69 610.09 7174.09 = 18896.11 / на количество элементов 20 и взять корень квадратный, = 30.823"
   ]
  },
  {
   "cell_type": "code",
   "execution_count": 4,
   "id": "f8370691",
   "metadata": {},
   "outputs": [
    {
     "name": "stdout",
     "output_type": "stream",
     "text": [
      "несмещенная: 1000.1157894736842\n",
      "несмещенная: 1000.115789473684\n",
      "смещенная: 950.1099999999999\n",
      "смещенная: 950.11\n"
     ]
    }
   ],
   "source": [
    "print('несмещенная:', arr.var(ddof=1)) # дисперсия\n",
    "print('несмещенная:', np.var(arr1, ddof=1))\n",
    "print('смещенная:', np.var(arr1, ddof=0))\n",
    "print('смещенная:', np.var(arr, ddof=0))"
   ]
  },
  {
   "attachments": {},
   "cell_type": "markdown",
   "id": "55f8b723",
   "metadata": {},
   "source": [
    "элемент минус среднее занчение 100-65.3 и взоводим в квадрат\n",
    "1204.09 216.09 94.09 136.89 561.69 1043.29 412.09 1624.09 0.09 2332.89 1246.09 1705.69 68.89 22.09 94.09 0.09 349.69 610.09 7174.09 = 18896.11 / на количество элементов 20 (смещеная) = 950.11; (n-1) 19 элементов (несмещеная) = 1000.115"
   ]
  },
  {
   "cell_type": "code",
   "execution_count": 5,
   "id": "7a7c5fc6",
   "metadata": {},
   "outputs": [
    {
     "data": {
      "text/plain": [
       "65.3"
      ]
     },
     "execution_count": 5,
     "metadata": {},
     "output_type": "execute_result"
    }
   ],
   "source": [
    "np.mean(arr1)"
   ]
  },
  {
   "attachments": {},
   "cell_type": "markdown",
   "id": "6c81f2fb",
   "metadata": {},
   "source": [
    "среднее арифметическое = сумма всех элементов 1306 / на число элементов 20 = 65.3"
   ]
  },
  {
   "cell_type": "code",
   "execution_count": 6,
   "id": "f3cd2852",
   "metadata": {},
   "outputs": [
    {
     "data": {
      "text/plain": [
       "20"
      ]
     },
     "execution_count": 6,
     "metadata": {},
     "output_type": "execute_result"
    }
   ],
   "source": [
    "len(arr)"
   ]
  },
  {
   "attachments": {},
   "cell_type": "markdown",
   "id": "3c6fd757",
   "metadata": {},
   "source": [
    "В первом ящике находится 8 мячей, из которых 5 - белые. Во втором ящике - 12 мячей, из которых 5 белых. Из первого ящика вытаскивают случайным образом два мяча, из второго - 4. Какова вероятность того, что 3 мяча белые?"
   ]
  },
  {
   "cell_type": "code",
   "execution_count": 7,
   "id": "279aebb3",
   "metadata": {},
   "outputs": [],
   "source": [
    "import math as mt"
   ]
  },
  {
   "cell_type": "code",
   "execution_count": 8,
   "id": "fe79641f",
   "metadata": {},
   "outputs": [],
   "source": [
    "\n",
    "def combination (n, k):\n",
    "    return mt.factorial(n) // (mt.factorial(k) * mt.factorial(n - k ))"
   ]
  },
  {
   "cell_type": "code",
   "execution_count": 9,
   "id": "9b131b1d",
   "metadata": {},
   "outputs": [
    {
     "data": {
      "text/plain": [
       "0.3686868686868686"
      ]
     },
     "execution_count": 9,
     "metadata": {},
     "output_type": "execute_result"
    }
   ],
   "source": [
    "a = combination (3, 2)/combination (8, 2) * combination (5, 3) * combination (7, 1)/combination (12, 4)\n",
    "b = combination (5, 1)* combination(3, 1)/combination (8, 2) * combination (5, 2) * combination (7, 2)/combination (12, 4) \n",
    "c = combination (5, 2)/combination (8, 2) * combination (5, 1) * combination (7, 3)/combination (12, 4)\n",
    "a + b + c"
   ]
  },
  {
   "attachments": {},
   "cell_type": "markdown",
   "id": "c8ede05d",
   "metadata": {},
   "source": [
    "На соревновании по биатлону один из трех спортсменов стреляет и попадает в мишень. Вероятность попадания для первого спортсмена равна 0.9, для второго — 0.8, для третьего — 0.6. Найти вероятность того, что выстрел произведен: a). первым спортсменом б). вторым спортсменом в). третьим спортсменом."
   ]
  },
  {
   "attachments": {},
   "cell_type": "markdown",
   "id": "c3f47a42",
   "metadata": {},
   "source": [
    "P(B|A) = P(A|B) * P(B) // P(A) ; P(B1,2,3) = 1/3; P(A) = P(A|B1) * P(B1) + P(A|B2) * P(B2) + P(A|B3) * P(B3)"
   ]
  },
  {
   "cell_type": "code",
   "execution_count": 10,
   "id": "32aac43a",
   "metadata": {},
   "outputs": [
    {
     "data": {
      "text/plain": [
       "(0.391304347826087, 0.3478260869565218, 0.2608695652173913)"
      ]
     },
     "execution_count": 10,
     "metadata": {},
     "output_type": "execute_result"
    }
   ],
   "source": [
    "pa = 0.9 * 1/3 + 0.8 * 1/3+ 0.6 * 1/3\n",
    "pb = 1/3\n",
    "p1 = 0.9 * pb / pa\n",
    "p2 = 0.8 * pb/ pa\n",
    "p3 = 0.6 * pb/ pa\n",
    "p1, p2, p3"
   ]
  },
  {
   "attachments": {},
   "cell_type": "markdown",
   "id": "16b16cb3",
   "metadata": {},
   "source": [
    "В университет на факультеты A и B поступило равное количество студентов, а на факультет C студентов поступило столько же, сколько на A и B вместе. Вероятность того, что студент факультета A сдаст первую сессию, равна 0.8. Для студента факультета B эта вероятность равна 0.7, а для студента факультета C - 0.9. Студент сдал первую сессию. Какова вероятность, что он учится: a). на факультете A б). на факультете B в). на факультете C?"
   ]
  },
  {
   "attachments": {},
   "cell_type": "markdown",
   "id": "765ab890",
   "metadata": {},
   "source": [
    "P(B|A) = P(A|B) * P(B) // P(A) ; P(B) = 1; P(B1) = 1/4; P(B2) = 1/4; P(B3) = 1/2 "
   ]
  },
  {
   "cell_type": "code",
   "execution_count": 11,
   "id": "98b5d08a",
   "metadata": {},
   "outputs": [
    {
     "data": {
      "text/plain": [
       "(0.24242424242424246, 0.21212121212121213, 0.5454545454545455)"
      ]
     },
     "execution_count": 11,
     "metadata": {},
     "output_type": "execute_result"
    }
   ],
   "source": [
    "pa = 0.8 * 1/4 + 0.7 * 1/4+ 0.9 * 1/2\n",
    "pb1 = 1/4\n",
    "pb2 = 1/4\n",
    "pb3 = 1/2\n",
    "p1 = 0.8 * pb1 / pa\n",
    "p2 = 0.7 * pb2 / pa\n",
    "p3 = 0.9 * pb3 / pa\n",
    "p1, p2, p3"
   ]
  },
  {
   "attachments": {},
   "cell_type": "markdown",
   "id": "5554184f",
   "metadata": {},
   "source": [
    "Устройство состоит из трех деталей. Для первой детали вероятность выйти из строя в первый месяц равна 0.1, для второй - 0.2, для третьей - 0.25. Какова вероятность того, что в первый месяц выйдут из строя: а). все детали б). только две детали в). хотя бы одна деталь г). от одной до двух деталей?\n",
    "\n",
    "P(D) = P(A1*A2*A3) = P(A1) * P(A2) * P(A3)\n",
    "\n",
    "p(E) = P(A1*A2*_A3) + P(A1*_A2*A3) + P(_A1*A2*A3)\n",
    "\n",
    "P(F) = (P(A1*_A2*_A3)+P(_A1*A2*_A3)+P(_A1*_A2*A3) + (P(A1*A2*_A3) + P(A1*_A2*A3) + P(_A1*A2*A3) + P(A1*A2*A3))\n",
    "\n",
    "P(G) = (P(A1*_A2*_A3)+P(_A1*A2*_A3)+P(_A1*_A2*A3) + (P(A1*A2*_A3) + P(A1*_A2*A3) + P(_A1*A2*A3))"
   ]
  },
  {
   "cell_type": "code",
   "execution_count": 12,
   "id": "50d0f5e6",
   "metadata": {},
   "outputs": [
    {
     "name": "stdout",
     "output_type": "stream",
     "text": [
      "0.005000000000000001\n",
      "0.08000000000000002\n",
      "0.45999999999999996\n",
      "0.4600000000000001\n",
      "0.45500000000000007\n"
     ]
    }
   ],
   "source": [
    "\n",
    "pa1 = 0.1\n",
    "pa2 = 0.2\n",
    "pa3 = 0.25\n",
    "\n",
    "pd = pa1 * pa2 * pa3\n",
    "pe = (pa1 * pa2 * (1-pa3)) + ((1-pa1) * pa2 * pa3) + (pa1 * (1-pa2) * pa3)\n",
    "pf = (pa1 * (1-pa2) * (1-pa3)) + ((1-pa1) * (1-pa2) * pa3) + ((1-pa1 )* pa2 * (1-pa3)) + (pe + pd)\n",
    "pf1 = 1-((1-pa1) * (1-pa2) * (1-pa3))\n",
    "pg =  (pa1 * (1-pa2) * (1-pa3)) + ((1-pa1) * (1-pa2) * pa3) + ((1-pa1 )* pa2 * (1-pa3)) + pe\n",
    "\n",
    "print(pd)\n",
    "print(pe)\n",
    "print(pf1)\n",
    "print(pf)\n",
    "print(pg)"
   ]
  }
 ],
 "metadata": {
  "kernelspec": {
   "display_name": "Python 3",
   "language": "python",
   "name": "python3"
  },
  "language_info": {
   "codemirror_mode": {
    "name": "ipython",
    "version": 3
   },
   "file_extension": ".py",
   "mimetype": "text/x-python",
   "name": "python",
   "nbconvert_exporter": "python",
   "pygments_lexer": "ipython3",
   "version": "3.9.6"
  },
  "vscode": {
   "interpreter": {
    "hash": "31f2aee4e71d21fbe5cf8b01ff0e069b9275f58929596ceb00d14d90e3e16cd6"
   }
  }
 },
 "nbformat": 4,
 "nbformat_minor": 5
}
