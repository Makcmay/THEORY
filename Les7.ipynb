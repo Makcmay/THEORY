{
 "cells": [
  {
   "cell_type": "code",
   "execution_count": 1,
   "metadata": {},
   "outputs": [],
   "source": [
    "import numpy as np\n",
    "import scipy.stats as st"
   ]
  },
  {
   "attachments": {},
   "cell_type": "markdown",
   "metadata": {},
   "source": [
    "Тест Манна -Уитни"
   ]
  },
  {
   "cell_type": "code",
   "execution_count": 2,
   "metadata": {},
   "outputs": [
    {
     "data": {
      "text/plain": [
       "MannwhitneyuResult(statistic=5.0, pvalue=1.0)"
      ]
     },
     "execution_count": 2,
     "metadata": {},
     "output_type": "execute_result"
    }
   ],
   "source": [
    "x = np.array([47, 75, 90])\n",
    "y = np.array([58, 60, 77])\n",
    "\n",
    "st.mannwhitneyu(x, y)"
   ]
  },
  {
   "attachments": {},
   "cell_type": "markdown",
   "metadata": {},
   "source": [
    "Есть ли статистически значимая разница в весе пациентов до диеты и после.\n",
    "Пациентов 10, выборки зависимы так как пациенты одни и теже.\n",
    "\n",
    "pvalue=0.009765625 < alpha = 0.05\n",
    " \n",
    "Вывод: Статистически значимые различия есть"
   ]
  },
  {
   "cell_type": "code",
   "execution_count": 5,
   "metadata": {},
   "outputs": [
    {
     "data": {
      "text/plain": [
       "array([-6. ,  2.5, -7.5, -5.5,  4. , -8. , -4.5, -7. , -8.5, -6.5])"
      ]
     },
     "execution_count": 5,
     "metadata": {},
     "output_type": "execute_result"
    }
   ],
   "source": [
    "x1= np.array([70, 74, 74.5, 79, 85, 93, 94, 98, 106.5, 107])\n",
    "x2= np.array([64, 76.5, 67, 73.5, 89, 85, 89.5, 91, 98, 100.5])\n",
    "\n",
    "x2-x1"
   ]
  },
  {
   "cell_type": "code",
   "execution_count": 6,
   "metadata": {},
   "outputs": [
    {
     "data": {
      "text/plain": [
       "WilcoxonResult(statistic=3.0, pvalue=0.009765625)"
      ]
     },
     "execution_count": 6,
     "metadata": {},
     "output_type": "execute_result"
    }
   ],
   "source": [
    "st.wilcoxon(x1, x2)"
   ]
  },
  {
   "attachments": {},
   "cell_type": "markdown",
   "metadata": {},
   "source": [
    "Меняем последнего пациента на 113.5 кг после диеты\n",
    "\n",
    "\n",
    "statistic=9.0, pvalue=0.064453125 диета не влияет"
   ]
  },
  {
   "cell_type": "code",
   "execution_count": 7,
   "metadata": {},
   "outputs": [
    {
     "data": {
      "text/plain": [
       "array([-6. ,  2.5, -7.5, -5.5,  4. , -8. , -4.5, -7. , -8.5,  6.5])"
      ]
     },
     "execution_count": 7,
     "metadata": {},
     "output_type": "execute_result"
    }
   ],
   "source": [
    "x1= np.array([70, 74, 74.5, 79, 85, 93, 94, 98, 106.5, 107])\n",
    "x3= np.array([64, 76.5, 67, 73.5, 89, 85, 89.5, 91, 98, 113.5])\n",
    "\n",
    "x3-x1"
   ]
  },
  {
   "cell_type": "code",
   "execution_count": 8,
   "metadata": {},
   "outputs": [
    {
     "data": {
      "text/plain": [
       "WilcoxonResult(statistic=9.0, pvalue=0.064453125)"
      ]
     },
     "execution_count": 8,
     "metadata": {},
     "output_type": "execute_result"
    }
   ],
   "source": [
    "st.wilcoxon(x1, x3)"
   ]
  },
  {
   "attachments": {},
   "cell_type": "markdown",
   "metadata": {},
   "source": [
    "ЗП по профессиям, есть ли разница\n",
    "statistic=15.384044526901675, pvalue=0.00045645416718036815)\n",
    "\n",
    "p-value < alpha стат. значимые различия есть"
   ]
  },
  {
   "cell_type": "code",
   "execution_count": 12,
   "metadata": {},
   "outputs": [],
   "source": [
    "g1 = np.array([70, 50, 64, 61, 75, 67, 73])\n",
    "g2 = np.array([80, 78, 90, 68, 74, 65, 85])\n",
    "g3 = np.array([141, 142, 140, 152, 161, 163, 155])\n",
    "\n"
   ]
  },
  {
   "cell_type": "code",
   "execution_count": 13,
   "metadata": {},
   "outputs": [
    {
     "data": {
      "text/plain": [
       "KruskalResult(statistic=15.384044526901675, pvalue=0.00045645416718036815)"
      ]
     },
     "execution_count": 13,
     "metadata": {},
     "output_type": "execute_result"
    }
   ],
   "source": [
    "st.kruskal(g1, g2, g3)"
   ]
  },
  {
   "attachments": {},
   "cell_type": "markdown",
   "metadata": {},
   "source": [
    "гемоглабин до диеты, после диеты А, после диеты В\n",
    "пациентов 5\n",
    "\n",
    "FriedmanchisquareResult(statistic=5.200000000000003, pvalue=0.0742735782143338)\n",
    "\n",
    "на уровне стат значимости alpha = 0.05 < p-Value следовательно верна Нулевая гипотеза\n",
    "\n",
    "Нулевая гипотеза всегда - различия не обнаружнены"
   ]
  },
  {
   "cell_type": "code",
   "execution_count": 14,
   "metadata": {},
   "outputs": [],
   "source": [
    "before = np.array([123, 135, 119, 109, 145])\n",
    "diet_1 = np.array([126, 144, 117, 156, 170])\n",
    "diet_2 = np.array([141, 150, 164, 147, 169])"
   ]
  },
  {
   "cell_type": "code",
   "execution_count": 15,
   "metadata": {},
   "outputs": [
    {
     "data": {
      "text/plain": [
       "FriedmanchisquareResult(statistic=5.200000000000003, pvalue=0.0742735782143338)"
      ]
     },
     "execution_count": 15,
     "metadata": {},
     "output_type": "execute_result"
    }
   ],
   "source": [
    "st.friedmanchisquare(before, diet_1, diet_2)"
   ]
  }
 ],
 "metadata": {
  "kernelspec": {
   "display_name": "Python 3",
   "language": "python",
   "name": "python3"
  },
  "language_info": {
   "codemirror_mode": {
    "name": "ipython",
    "version": 3
   },
   "file_extension": ".py",
   "mimetype": "text/x-python",
   "name": "python",
   "nbconvert_exporter": "python",
   "pygments_lexer": "ipython3",
   "version": "3.9.6"
  },
  "orig_nbformat": 4,
  "vscode": {
   "interpreter": {
    "hash": "31f2aee4e71d21fbe5cf8b01ff0e069b9275f58929596ceb00d14d90e3e16cd6"
   }
  }
 },
 "nbformat": 4,
 "nbformat_minor": 2
}
