{
 "cells": [
  {
   "cell_type": "code",
   "execution_count": 2,
   "metadata": {},
   "outputs": [],
   "source": [
    "import numpy as np\n",
    "import scipy.stats as st"
   ]
  },
  {
   "attachments": {},
   "cell_type": "markdown",
   "metadata": {},
   "source": [
    "Задача 1. Когда используется критерий Стьюдента, а когда Z –критерий?\n",
    "\n",
    "Если условия применимости параметрических тестов соблюдены, то в случае известной сигмы генеральной совокупности более предпочтителен Z- критерий, в противном случае -  критерий Стьюдента t.\n",
    "\n"
   ]
  },
  {
   "attachments": {},
   "cell_type": "markdown",
   "metadata": {},
   "source": [
    "\n",
    "Задача 2. Проведите тест гипотезы. Утверждается, что шарики для подшипников, изготовленные\n",
    "автоматическим станком, имеют средний диаметр 17 мм.\n",
    "Используя односторонний критерий с α=0,05, проверить эту гипотезу, если в выборке из\n",
    "n=100 шариков средний диаметр\n",
    "оказался равным 17.5 мм, а дисперсия известна и равна 4 кв. мм.\n",
    "\n",
    "H0 : m = 17\n",
    "\n",
    "H1 : m > 17\n",
    "\n",
    "alpha = 0.05\n",
    "\n",
    "m = 17\n",
    "\n",
    "x = 17.5\n",
    "\n",
    "n = 100\n",
    "\n",
    "D(x) = 4\n",
    "\n",
    "sigma = 2\n",
    "\n",
    "z = (x - m) / (sigma / sqrt (n)) = 2.5\n",
    "\n",
    "t = по таблице через alpha = 1.644\n",
    "\n",
    "Вывод: наблюдаемая величина попадает в область критической величины, следовательно гипотеза H0 отвергается."
   ]
  },
  {
   "cell_type": "code",
   "execution_count": 2,
   "metadata": {},
   "outputs": [
    {
     "data": {
      "text/plain": [
       "2.5"
      ]
     },
     "execution_count": 2,
     "metadata": {},
     "output_type": "execute_result"
    }
   ],
   "source": [
    "sigma = 2\n",
    "x = 17.5\n",
    "m = 17\n",
    "n = 100\n",
    "\n",
    "z= (x-m)/(sigma/np.sqrt(n))\n",
    "z"
   ]
  },
  {
   "cell_type": "code",
   "execution_count": 3,
   "metadata": {},
   "outputs": [
    {
     "data": {
      "text/plain": [
       "1.6448536269514722"
      ]
     },
     "execution_count": 3,
     "metadata": {},
     "output_type": "execute_result"
    }
   ],
   "source": [
    "alpha = 0.05\n",
    "n = 100\n",
    "\n",
    "t1 = st.norm.ppf(1 - alpha)  # ПКО\n",
    "\n",
    "t1"
   ]
  },
  {
   "attachments": {},
   "cell_type": "markdown",
   "metadata": {},
   "source": [
    "Задача 3. Проведите тест гипотезы. Продавец утверждает, что средний вес пачки печенья\n",
    "составляет 200 г.\n",
    "Из партии извлечена выборка из 10 пачек. Вес каждой пачки составляет:\n",
    "202, 203, 199, 197, 195, 201, 200, 204, 194, 190.\n",
    "Известно, что их веса распределены нормально.\n",
    "Верно ли утверждение продавца, если учитывать, что доверительная вероятность равна\n",
    "99%? (Провести двусторонний тест.)\n",
    "\n",
    "H0 : m = 200\n",
    "\n",
    "H1 : m != 200\n",
    "\n",
    "M(x) = 200\n",
    "\n",
    "n = 10\n",
    "\n",
    "alpha = 0.01\n",
    "\n",
    "array = ([202, 203, 199, 197, 195, 201, 200, 204, 194, 190])\n",
    "\n",
    "x_mean = 198.5  среднее по выборке\n",
    "\n",
    "x_v = 19.833 СКО несмещенное \n",
    "\n",
    "t_emp= (x - m) / (СКО несмещенное/sqrt(n)) = -0.2391 определяем наблюдаемую велечину (критерий Стьюдента)\n",
    "\n",
    "t1 = -3.249\n",
    "\n",
    "t2 = 3.249\n",
    "\n",
    "Вывод: Гипотеза H0 не отвергается, так как наблюдаемая величччина не попадает в области критической величины t1 < t_emp < t2"
   ]
  },
  {
   "cell_type": "code",
   "execution_count": 5,
   "metadata": {},
   "outputs": [
    {
     "name": "stdout",
     "output_type": "stream",
     "text": [
      "198.5 19.833333333333332 10\n"
     ]
    }
   ],
   "source": [
    "m = 200\n",
    "x = np.array = ([202, 203, 199, 197, 195, 201, 200, 204, 194, 190])\n",
    "x_mean = np.mean(x)\n",
    "x_v = np.var(x, ddof=1)\n",
    "n_x = len(x)\n",
    "print(x_mean, x_v, n_x)"
   ]
  },
  {
   "cell_type": "code",
   "execution_count": 10,
   "metadata": {},
   "outputs": [
    {
     "data": {
      "text/plain": [
       "-0.23916385665139006"
      ]
     },
     "execution_count": 10,
     "metadata": {},
     "output_type": "execute_result"
    }
   ],
   "source": [
    "t_emp = (x_mean - m) / (x_v / np.sqrt(n_x))\n",
    "t_emp"
   ]
  },
  {
   "cell_type": "code",
   "execution_count": 5,
   "metadata": {},
   "outputs": [
    {
     "name": "stdout",
     "output_type": "stream",
     "text": [
      "-3.24983554401537 3.2498355440153697\n"
     ]
    }
   ],
   "source": [
    "alpha = 0.01\n",
    "n = 10\n",
    "\n",
    "t1 = st.t.ppf(alpha / 2, df = n - 1 )\n",
    "t2 = st.t.ppf(1 - alpha / 2, df = n - 1)\n",
    "print(t1, t2)"
   ]
  },
  {
   "attachments": {},
   "cell_type": "markdown",
   "metadata": {},
   "source": [
    "Задачу 4 решать с помощью функции.\n",
    "Задача 4. Есть ли статистически значимые различия в росте\n",
    "дочерей?\n",
    "Рост матерей 172, 177, 158, 170, 178,175, 164, 160, 169, 165\n",
    "Рост взрослых дочерей: 173, 175, 162, 174, 175, 168, 155, 170, 160, 163\n",
    "\n",
    "H0 : M(x) = M(y)\n",
    "\n",
    "H1 : M(x) != M(y)\n",
    "\n",
    "alpha = 0.05\n",
    "\n",
    "p-value = 0.522\n",
    "\n",
    "Вывод : так как p-value > alpha  гипотеза H0 не отвергается, следовательно статистически значимые различия в росте\n",
    "дочерей отсутсвуют.\n",
    "\n",
    "\n"
   ]
  },
  {
   "cell_type": "code",
   "execution_count": 6,
   "metadata": {},
   "outputs": [],
   "source": [
    "x = np.array([172, 177, 158, 170, 178, 175, 164, 160, 169, 165])\n",
    "y = np.array([173, 175, 162, 174, 175, 168, 155, 170, 160, 163])"
   ]
  },
  {
   "cell_type": "code",
   "execution_count": 9,
   "metadata": {},
   "outputs": [
    {
     "data": {
      "text/plain": [
       "TtestResult(statistic=0.6648478531431979, pvalue=0.5228168632983574, df=9)"
      ]
     },
     "execution_count": 9,
     "metadata": {},
     "output_type": "execute_result"
    }
   ],
   "source": [
    "st.ttest_rel(x, y)"
   ]
  }
 ],
 "metadata": {
  "kernelspec": {
   "display_name": "Python 3",
   "language": "python",
   "name": "python3"
  },
  "language_info": {
   "codemirror_mode": {
    "name": "ipython",
    "version": 3
   },
   "file_extension": ".py",
   "mimetype": "text/x-python",
   "name": "python",
   "nbconvert_exporter": "python",
   "pygments_lexer": "ipython3",
   "version": "3.9.6"
  },
  "orig_nbformat": 4,
  "vscode": {
   "interpreter": {
    "hash": "31f2aee4e71d21fbe5cf8b01ff0e069b9275f58929596ceb00d14d90e3e16cd6"
   }
  }
 },
 "nbformat": 4,
 "nbformat_minor": 2
}
