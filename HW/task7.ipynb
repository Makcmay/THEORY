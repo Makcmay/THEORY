{
 "cells": [
  {
   "cell_type": "code",
   "execution_count": 18,
   "metadata": {},
   "outputs": [],
   "source": [
    "import numpy as np\n",
    "import scipy.stats as st\n",
    "from scipy.stats import t"
   ]
  },
  {
   "attachments": {},
   "cell_type": "markdown",
   "metadata": {},
   "source": [
    "1-4 задачи решать с помощью функций, 5ю вручную\n",
    "Выберете тест и проверьте, есть ли различия между выборками:\n"
   ]
  },
  {
   "attachments": {},
   "cell_type": "markdown",
   "metadata": {},
   "source": [
    "Задача 1. Даны две независимые выборки. Не соблюдается условие нормальности\n",
    "x1 380,420, 290\n",
    "y1 140,360,200,900\n",
    "Сделайте вывод по результатам, полученным с помощью функции, имеются ли статистические различия между группами?\n",
    "\n",
    "MannwhitneyuResult(statistic=8.0, pvalue=0.6285714285714286)  alpha = 0.05\n",
    "\n",
    "Используем критери Манна- Уитни, pvalue > alpha -> Статистически значимых различий нет, верна гипотеза H0(выборки равны)."
   ]
  },
  {
   "cell_type": "code",
   "execution_count": 2,
   "metadata": {},
   "outputs": [
    {
     "data": {
      "text/plain": [
       "MannwhitneyuResult(statistic=8.0, pvalue=0.6285714285714286)"
      ]
     },
     "execution_count": 2,
     "metadata": {},
     "output_type": "execute_result"
    }
   ],
   "source": [
    "x1 = np.array([380, 420, 290])\n",
    "y1 = np.array([140, 360, 200, 900])\n",
    "\n",
    "st.mannwhitneyu(x1, y1)"
   ]
  },
  {
   "attachments": {},
   "cell_type": "markdown",
   "metadata": {},
   "source": [
    "Задача 2. Исследовалось влияние препарата на уровень давления пациентов. Сначала\n",
    "измерялось давление до приема препарата, потом через 10 минут и через 30 минут. Есть\n",
    "ли статистически значимые различия между измерениями давления? В выборках не соблюдается условие нормальности.\n",
    "1е измерение до приема препарата: 150, 160, 165, 145, 155\n",
    "2е измерение через 10 минут: 140, 155, 150, 130, 135\n",
    "3е измерение через 30 минут: 130, 130, 120, 130, 125\n",
    "\n",
    "Используем критерий Фридмана для анализа повторных измерений\n",
    "\n",
    "FriedmanchisquareResult(statistic=9.578947368421062, pvalue=0.00831683351100441) alpha = 0.05\n",
    "\n",
    "pvalue < alpha -> есть статистически значимые различия, верна гипотеза H1 (препарат влияет на давление)"
   ]
  },
  {
   "cell_type": "code",
   "execution_count": 3,
   "metadata": {},
   "outputs": [
    {
     "data": {
      "text/plain": [
       "FriedmanchisquareResult(statistic=9.578947368421062, pvalue=0.00831683351100441)"
      ]
     },
     "execution_count": 3,
     "metadata": {},
     "output_type": "execute_result"
    }
   ],
   "source": [
    "a = np.array([150, 160, 165, 145, 155])\n",
    "b = np.array([140, 155, 150, 130, 135])\n",
    "c = np.array([130, 130, 120, 130, 125])\n",
    "\n",
    "st.friedmanchisquare(a, b, c)"
   ]
  },
  {
   "attachments": {},
   "cell_type": "markdown",
   "metadata": {},
   "source": [
    "Задача 3. Сравните 1 и 2 е измерения, предполагая, что 3го измерения через 30 минут не было. Есть\n",
    "ли статистически значимые различия между измерениями давления?\n",
    "\n",
    "MannwhitneyuResult(statistic=21.0, pvalue=0.09269171612444643) alpha = 0.05\n",
    "\n",
    "Используем критери Уилкоксона, pvalue=0.0625 > alpha -> Статистически значимых различий нет, верна гипотеза H0 (препарат не влияет через 10 минут)."
   ]
  },
  {
   "cell_type": "code",
   "execution_count": 4,
   "metadata": {},
   "outputs": [
    {
     "data": {
      "text/plain": [
       "WilcoxonResult(statistic=0.0, pvalue=0.0625)"
      ]
     },
     "execution_count": 4,
     "metadata": {},
     "output_type": "execute_result"
    }
   ],
   "source": [
    "st.wilcoxon(a, b)\n"
   ]
  },
  {
   "attachments": {},
   "cell_type": "markdown",
   "metadata": {},
   "source": [
    "Задача 4. Даны 3 группы учеников плавания. Не соблюдается условие нормальности.\n",
    "В 1 группе время на дистанцию 50 м составляют:\n",
    "56, 60, 62, 55, 71, 67, 59, 58, 64, 67\n",
    "Вторая группа : 57, 58, 69, 48, 72, 70, 68, 71, 50, 53\n",
    "Третья группа: 57, 67, 49, 48, 47, 55, 66, 51, 54\n",
    "Есть\n",
    "ли статистически значимые различия между группами?\n",
    "\n",
    "Группы разные и >2х Используем критерий Краскела — Уоллиса\n",
    "\n",
    "KruskalResult(statistic=5.465564058257224, pvalue=0.0650380998590494) alpha = 0.05\n",
    "\n",
    "pvalue > alpha -> Статистически значимых различий нет, верна гипотеза H0"
   ]
  },
  {
   "cell_type": "code",
   "execution_count": 5,
   "metadata": {},
   "outputs": [
    {
     "data": {
      "text/plain": [
       "KruskalResult(statistic=5.465564058257224, pvalue=0.0650380998590494)"
      ]
     },
     "execution_count": 5,
     "metadata": {},
     "output_type": "execute_result"
    }
   ],
   "source": [
    "a1 = np.array([56, 60, 62, 55, 71, 67, 59, 58, 64, 67])\n",
    "b1 = np.array([57, 58, 69, 48, 72, 70, 68, 71, 50, 53])\n",
    "c1 = np.array([57, 67, 49, 48, 47, 55, 66, 51, 54])\n",
    "\n",
    "st.kruskal(a1, b1, c1)"
   ]
  },
  {
   "attachments": {},
   "cell_type": "markdown",
   "metadata": {},
   "source": [
    "Задача 5. Заявляется, что партия изготавливается со средним арифметическим 2,5 см. Проверить\n",
    "данную гипотезу, если известно, что размеры изделий подчинены нормальному закону\n",
    "распределения. Объем выборки 10, уровень статистической значимости 5%\n",
    "2.51, 2.35, 2.74, 2.56, 2.40, 2.36, 2.65, 2.7, 2.67, 2.34\n",
    "\n",
    "H0 : m = 2.5\n",
    "\n",
    "H1 : m != 2.5\n",
    "\n",
    "M(x) = 2.5\n",
    "\n",
    "n = 10\n",
    "\n",
    "alpha = 0.05\n",
    "\n",
    "array = [2.51, 2.35, 2.74, 2.56, 2.40, 2.36, 2.65, 2.7, 2.67, 2.34]\n",
    "\n",
    "Постчитаем среднее значение\n",
    "\n",
    "x_mean = 2.527  среднее по выборке\n",
    "\n",
    "x_v = 0.0247 СКО несмещенное (дисперсия) нужно извлечь корень\n",
    "\n",
    "t_emp= (x_mean - m) / (СКО несмещенное/sqrt(n)) = 0.563061 определяем наблюдаемую велечину (критерий Стьюдента)\n",
    "критические величины:\n",
    "\n",
    "t1 = -2.262\n",
    "t2 = 2.262\n",
    "Вывод: так как t наблюдаемое лежит в области от t1 до t2 кртитической величины,  верна гипотеза H0"
   ]
  },
  {
   "cell_type": "code",
   "execution_count": 6,
   "metadata": {},
   "outputs": [
    {
     "name": "stdout",
     "output_type": "stream",
     "text": [
      "2.5279999999999996 0.1572542173961923 10\n"
     ]
    }
   ],
   "source": [
    "m = 2.5\n",
    "x = np.array = ([2.51, 2.35, 2.74, 2.56, 2.40, 2.36, 2.65, 2.7, 2.67, 2.34])\n",
    "x_mean = np.mean(x)\n",
    "# x_v =(np.var(x, ddof=1))\n",
    "x_v = np.std(x, ddof=1)\n",
    "n_x = len(x)\n",
    "print(x_mean, x_v, n_x)"
   ]
  },
  {
   "cell_type": "code",
   "execution_count": 7,
   "metadata": {},
   "outputs": [
    {
     "data": {
      "text/plain": [
       "0.5630613661802959"
      ]
     },
     "execution_count": 7,
     "metadata": {},
     "output_type": "execute_result"
    }
   ],
   "source": [
    "t_emp = (x_mean - m) / (x_v / np.sqrt(n_x))\n",
    "t_emp"
   ]
  },
  {
   "cell_type": "code",
   "execution_count": 23,
   "metadata": {},
   "outputs": [
    {
     "ename": "TypeError",
     "evalue": "'list' object is not callable",
     "output_type": "error",
     "traceback": [
      "\u001b[0;31m---------------------------------------------------------------------------\u001b[0m",
      "\u001b[0;31mTypeError\u001b[0m                                 Traceback (most recent call last)",
      "Cell \u001b[0;32mIn[23], line 4\u001b[0m\n\u001b[1;32m      1\u001b[0m alpha \u001b[39m=\u001b[39m \u001b[39m0.05\u001b[39m\n\u001b[1;32m      2\u001b[0m n \u001b[39m=\u001b[39m \u001b[39m10\u001b[39m\n\u001b[0;32m----> 4\u001b[0m t1 \u001b[39m=\u001b[39m t\u001b[39m.\u001b[39;49mppf(alpha \u001b[39m/\u001b[39;49m \u001b[39m2\u001b[39;49m, df\u001b[39m=\u001b[39;49m n \u001b[39m-\u001b[39;49m \u001b[39m1\u001b[39;49m)\n\u001b[1;32m      5\u001b[0m t2 \u001b[39m=\u001b[39m st\u001b[39m.\u001b[39mt\u001b[39m.\u001b[39mppf(\u001b[39m1\u001b[39m \u001b[39m-\u001b[39m alpha \u001b[39m/\u001b[39m \u001b[39m2\u001b[39m, df \u001b[39m=\u001b[39m n \u001b[39m-\u001b[39m \u001b[39m1\u001b[39m)\n\u001b[1;32m      6\u001b[0m \u001b[39mprint\u001b[39m(t1, t2)\n",
      "File \u001b[0;32m~/Library/Python/3.9/lib/python/site-packages/scipy/stats/_distn_infrastructure.py:2357\u001b[0m, in \u001b[0;36mrv_continuous.ppf\u001b[0;34m(self, q, *args, **kwds)\u001b[0m\n\u001b[1;32m   2354\u001b[0m place(output, cond3, argsreduce(cond3, upper_bound)[\u001b[39m0\u001b[39m])\n\u001b[1;32m   2356\u001b[0m \u001b[39mif\u001b[39;00m np\u001b[39m.\u001b[39many(cond):  \u001b[39m# call only if at least 1 entry\u001b[39;00m\n\u001b[0;32m-> 2357\u001b[0m     goodargs \u001b[39m=\u001b[39m argsreduce(cond, \u001b[39m*\u001b[39;49m((q,)\u001b[39m+\u001b[39;49margs\u001b[39m+\u001b[39;49m(scale, loc)))\n\u001b[1;32m   2358\u001b[0m     scale, loc, goodargs \u001b[39m=\u001b[39m goodargs[\u001b[39m-\u001b[39m\u001b[39m2\u001b[39m], goodargs[\u001b[39m-\u001b[39m\u001b[39m1\u001b[39m], goodargs[:\u001b[39m-\u001b[39m\u001b[39m2\u001b[39m]\n\u001b[1;32m   2359\u001b[0m     place(output, cond, \u001b[39mself\u001b[39m\u001b[39m.\u001b[39m_ppf(\u001b[39m*\u001b[39mgoodargs) \u001b[39m*\u001b[39m scale \u001b[39m+\u001b[39m loc)\n",
      "File \u001b[0;32m~/Library/Python/3.9/lib/python/site-packages/scipy/stats/_distn_infrastructure.py:580\u001b[0m, in \u001b[0;36margsreduce\u001b[0;34m(cond, *args)\u001b[0m\n\u001b[1;32m    576\u001b[0m     newargs \u001b[39m=\u001b[39m [newargs, ]\n\u001b[1;32m    578\u001b[0m \u001b[39mif\u001b[39;00m np\u001b[39m.\u001b[39mall(cond):\n\u001b[1;32m    579\u001b[0m     \u001b[39m# broadcast arrays with cond\u001b[39;00m\n\u001b[0;32m--> 580\u001b[0m     \u001b[39m*\u001b[39mnewargs, cond \u001b[39m=\u001b[39m np\u001b[39m.\u001b[39;49mbroadcast_arrays(\u001b[39m*\u001b[39;49mnewargs, cond)\n\u001b[1;32m    581\u001b[0m     \u001b[39mreturn\u001b[39;00m [arg\u001b[39m.\u001b[39mravel() \u001b[39mfor\u001b[39;00m arg \u001b[39min\u001b[39;00m newargs]\n\u001b[1;32m    583\u001b[0m s \u001b[39m=\u001b[39m cond\u001b[39m.\u001b[39mshape\n",
      "File \u001b[0;32m<__array_function__ internals>:200\u001b[0m, in \u001b[0;36mbroadcast_arrays\u001b[0;34m(*args, **kwargs)\u001b[0m\n",
      "File \u001b[0;32m~/Library/Python/3.9/lib/python/site-packages/numpy/lib/stride_tricks.py:538\u001b[0m, in \u001b[0;36mbroadcast_arrays\u001b[0;34m(subok, *args)\u001b[0m\n\u001b[1;32m    482\u001b[0m \u001b[39m\u001b[39m\u001b[39m\"\"\"\u001b[39;00m\n\u001b[1;32m    483\u001b[0m \u001b[39mBroadcast any number of arrays against each other.\u001b[39;00m\n\u001b[1;32m    484\u001b[0m \n\u001b[0;32m   (...)\u001b[0m\n\u001b[1;32m    531\u001b[0m \n\u001b[1;32m    532\u001b[0m \u001b[39m\"\"\"\u001b[39;00m\n\u001b[1;32m    533\u001b[0m \u001b[39m# nditer is not used here to avoid the limit of 32 arrays.\u001b[39;00m\n\u001b[1;32m    534\u001b[0m \u001b[39m# Otherwise, something like the following one-liner would suffice:\u001b[39;00m\n\u001b[1;32m    535\u001b[0m \u001b[39m# return np.nditer(args, flags=['multi_index', 'zerosize_ok'],\u001b[39;00m\n\u001b[1;32m    536\u001b[0m \u001b[39m#                  order='C').itviews\u001b[39;00m\n\u001b[0;32m--> 538\u001b[0m args \u001b[39m=\u001b[39m [np\u001b[39m.\u001b[39marray(_m, copy\u001b[39m=\u001b[39m\u001b[39mFalse\u001b[39;00m, subok\u001b[39m=\u001b[39msubok) \u001b[39mfor\u001b[39;00m _m \u001b[39min\u001b[39;00m args]\n\u001b[1;32m    540\u001b[0m shape \u001b[39m=\u001b[39m _broadcast_shape(\u001b[39m*\u001b[39margs)\n\u001b[1;32m    542\u001b[0m \u001b[39mif\u001b[39;00m \u001b[39mall\u001b[39m(array\u001b[39m.\u001b[39mshape \u001b[39m==\u001b[39m shape \u001b[39mfor\u001b[39;00m array \u001b[39min\u001b[39;00m args):\n\u001b[1;32m    543\u001b[0m     \u001b[39m# Common case where nothing needs to be broadcasted.\u001b[39;00m\n",
      "File \u001b[0;32m~/Library/Python/3.9/lib/python/site-packages/numpy/lib/stride_tricks.py:538\u001b[0m, in \u001b[0;36m<listcomp>\u001b[0;34m(.0)\u001b[0m\n\u001b[1;32m    482\u001b[0m \u001b[39m\u001b[39m\u001b[39m\"\"\"\u001b[39;00m\n\u001b[1;32m    483\u001b[0m \u001b[39mBroadcast any number of arrays against each other.\u001b[39;00m\n\u001b[1;32m    484\u001b[0m \n\u001b[0;32m   (...)\u001b[0m\n\u001b[1;32m    531\u001b[0m \n\u001b[1;32m    532\u001b[0m \u001b[39m\"\"\"\u001b[39;00m\n\u001b[1;32m    533\u001b[0m \u001b[39m# nditer is not used here to avoid the limit of 32 arrays.\u001b[39;00m\n\u001b[1;32m    534\u001b[0m \u001b[39m# Otherwise, something like the following one-liner would suffice:\u001b[39;00m\n\u001b[1;32m    535\u001b[0m \u001b[39m# return np.nditer(args, flags=['multi_index', 'zerosize_ok'],\u001b[39;00m\n\u001b[1;32m    536\u001b[0m \u001b[39m#                  order='C').itviews\u001b[39;00m\n\u001b[0;32m--> 538\u001b[0m args \u001b[39m=\u001b[39m [np\u001b[39m.\u001b[39;49marray(_m, copy\u001b[39m=\u001b[39;49m\u001b[39mFalse\u001b[39;49;00m, subok\u001b[39m=\u001b[39;49msubok) \u001b[39mfor\u001b[39;00m _m \u001b[39min\u001b[39;00m args]\n\u001b[1;32m    540\u001b[0m shape \u001b[39m=\u001b[39m _broadcast_shape(\u001b[39m*\u001b[39margs)\n\u001b[1;32m    542\u001b[0m \u001b[39mif\u001b[39;00m \u001b[39mall\u001b[39m(array\u001b[39m.\u001b[39mshape \u001b[39m==\u001b[39m shape \u001b[39mfor\u001b[39;00m array \u001b[39min\u001b[39;00m args):\n\u001b[1;32m    543\u001b[0m     \u001b[39m# Common case where nothing needs to be broadcasted.\u001b[39;00m\n",
      "\u001b[0;31mTypeError\u001b[0m: 'list' object is not callable"
     ]
    }
   ],
   "source": [
    "alpha = 0.05\n",
    "n = 10\n",
    "\n",
    "t1 = t.ppf(alpha / 2, df= n - 1)\n",
    "t2 = st.t.ppf(1 - alpha / 2, df = n - 1)\n",
    "print(t1, t2)"
   ]
  }
 ],
 "metadata": {
  "kernelspec": {
   "display_name": "Python 3",
   "language": "python",
   "name": "python3"
  },
  "language_info": {
   "codemirror_mode": {
    "name": "ipython",
    "version": 3
   },
   "file_extension": ".py",
   "mimetype": "text/x-python",
   "name": "python",
   "nbconvert_exporter": "python",
   "pygments_lexer": "ipython3",
   "version": "3.9.6"
  },
  "orig_nbformat": 4,
  "vscode": {
   "interpreter": {
    "hash": "31f2aee4e71d21fbe5cf8b01ff0e069b9275f58929596ceb00d14d90e3e16cd6"
   }
  }
 },
 "nbformat": 4,
 "nbformat_minor": 2
}
