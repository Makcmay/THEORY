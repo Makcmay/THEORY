{
 "cells": [
  {
   "cell_type": "code",
   "execution_count": 1,
   "metadata": {},
   "outputs": [],
   "source": [
    "import numpy as np\n",
    "import scipy.stats as st"
   ]
  },
  {
   "attachments": {},
   "cell_type": "markdown",
   "metadata": {},
   "source": [
    "1-4 задачи решать с помощью функций, 5ю вручную\n",
    "Выберете тест и проверьте, есть ли различия между выборками:\n"
   ]
  },
  {
   "attachments": {},
   "cell_type": "markdown",
   "metadata": {},
   "source": [
    "Задача 1. Даны две независимые выборки. Не соблюдается условие нормальности\n",
    "x1 380,420, 290\n",
    "y1 140,360,200,900\n",
    "Сделайте вывод по результатам, полученным с помощью функции, имеются ли статистические различия между группами?\n",
    "\n",
    "MannwhitneyuResult(statistic=8.0, pvalue=0.6285714285714286)  alpha = 0.05\n",
    "\n",
    "Используем критери Манна- Уитни, pvalue > alpha -> Статистически значимых различий нет, верна гипотеза H0(выборки равны)."
   ]
  },
  {
   "cell_type": "code",
   "execution_count": 2,
   "metadata": {},
   "outputs": [
    {
     "data": {
      "text/plain": [
       "MannwhitneyuResult(statistic=8.0, pvalue=0.6285714285714286)"
      ]
     },
     "execution_count": 2,
     "metadata": {},
     "output_type": "execute_result"
    }
   ],
   "source": [
    "x1 = np.array([380, 420, 290])\n",
    "y1 = np.array([140, 360, 200, 900])\n",
    "\n",
    "st.mannwhitneyu(x1, y1)"
   ]
  },
  {
   "attachments": {},
   "cell_type": "markdown",
   "metadata": {},
   "source": [
    "Задача 2. Исследовалось влияние препарата на уровень давления пациентов. Сначала\n",
    "измерялось давление до приема препарата, потом через 10 минут и через 30 минут. Есть\n",
    "ли статистически значимые различия между измерениями давления? В выборках не соблюдается условие нормальности.\n",
    "1е измерение до приема препарата: 150, 160, 165, 145, 155\n",
    "2е измерение через 10 минут: 140, 155, 150, 130, 135\n",
    "3е измерение через 30 минут: 130, 130, 120, 130, 125\n",
    "\n",
    "Используем критерий Фридмана для анализа повторных измерений\n",
    "\n",
    "FriedmanchisquareResult(statistic=9.578947368421062, pvalue=0.00831683351100441) alpha = 0.05\n",
    "\n",
    "pvalue < alpha -> есть статистически значимые различия, верна гипотеза H1 (препарат влияет на давление)"
   ]
  },
  {
   "cell_type": "code",
   "execution_count": 3,
   "metadata": {},
   "outputs": [
    {
     "data": {
      "text/plain": [
       "FriedmanchisquareResult(statistic=9.578947368421062, pvalue=0.00831683351100441)"
      ]
     },
     "execution_count": 3,
     "metadata": {},
     "output_type": "execute_result"
    }
   ],
   "source": [
    "a = np.array([150, 160, 165, 145, 155])\n",
    "b = np.array([140, 155, 150, 130, 135])\n",
    "c = np.array([130, 130, 120, 130, 125])\n",
    "\n",
    "st.friedmanchisquare(a, b, c)"
   ]
  },
  {
   "attachments": {},
   "cell_type": "markdown",
   "metadata": {},
   "source": [
    "Задача 3. Сравните 1 и 2 е измерения, предполагая, что 3го измерения через 30 минут не было. Есть\n",
    "ли статистически значимые различия между измерениями давления?\n",
    "\n",
    "MannwhitneyuResult(statistic=21.0, pvalue=0.09269171612444643) alpha = 0.05\n",
    "\n",
    "Используем критери Манна- Уитни, pvalue > alpha -> Статистически значимых различий нет, верна гипотеза H0 (препарат не влияет через 10 минут)."
   ]
  },
  {
   "cell_type": "code",
   "execution_count": 4,
   "metadata": {},
   "outputs": [
    {
     "data": {
      "text/plain": [
       "MannwhitneyuResult(statistic=21.0, pvalue=0.09269171612444643)"
      ]
     },
     "execution_count": 4,
     "metadata": {},
     "output_type": "execute_result"
    }
   ],
   "source": [
    "a = np.array([150, 160, 165, 145, 155])\n",
    "b = np.array([140, 155, 150, 130, 135])\n",
    "\n",
    "st.mannwhitneyu(a, b)\n"
   ]
  },
  {
   "attachments": {},
   "cell_type": "markdown",
   "metadata": {},
   "source": [
    "Задача 4. Даны 3 группы учеников плавания. Не соблюдается условие нормальности.\n",
    "В 1 группе время на дистанцию 50 м составляют:\n",
    "56, 60, 62, 55, 71, 67, 59, 58, 64, 67\n",
    "Вторая группа : 57, 58, 69, 48, 72, 70, 68, 71, 50, 53\n",
    "Третья группа: 57, 67, 49, 48, 47, 55, 66, 51, 54\n",
    "Есть\n",
    "ли статистически значимые различия между группами?\n",
    "\n",
    "Группы разные и >2х Используем критерий Краскела — Уоллиса\n",
    "\n",
    "KruskalResult(statistic=5.465564058257224, pvalue=0.0650380998590494) alpha = 0.05\n",
    "\n",
    "pvalue > alpha -> Статистически значимых различий нет, верна гипотеза H0"
   ]
  },
  {
   "cell_type": "code",
   "execution_count": 5,
   "metadata": {},
   "outputs": [
    {
     "data": {
      "text/plain": [
       "KruskalResult(statistic=5.465564058257224, pvalue=0.0650380998590494)"
      ]
     },
     "execution_count": 5,
     "metadata": {},
     "output_type": "execute_result"
    }
   ],
   "source": [
    "a1 = np.array([56, 60, 62, 55, 71, 67, 59, 58, 64, 67])\n",
    "b1 = np.array([57, 58, 69, 48, 72, 70, 68, 71, 50, 53])\n",
    "c1 = np.array([57, 67, 49, 48, 47, 55, 66, 51, 54])\n",
    "\n",
    "st.kruskal(a1, b1, c1)"
   ]
  },
  {
   "attachments": {},
   "cell_type": "markdown",
   "metadata": {},
   "source": [
    "Задача 5. Заявляется, что партия изготавливается со средним арифметическим 2,5 см. Проверить\n",
    "данную гипотезу, если известно, что размеры изделий подчинены нормальному закону\n",
    "распределения. Объем выборки 10, уровень статистической значимости 5%\n",
    "2.51, 2.35, 2.74, 2.56, 2.40, 2.36, 2.65, 2.7, 2.67, 2.34\n",
    "\n",
    "H0 : m = 2.5\n",
    "\n",
    "H1 : m != 2.5\n",
    "\n",
    "M(x) = 2.5\n",
    "\n",
    "n = 10\n",
    "\n",
    "alpha = 0.05\n",
    "\n",
    "array = [2.51, 2.35, 2.74, 2.56, 2.40, 2.36, 2.65, 2.7, 2.67, 2.34]\n",
    "\n",
    "Постчитаем среднее значение\n",
    "\n",
    "x_mean = 2.527  среднее по выборке\n",
    "\n",
    "x_v = 0.0247 СКО несмещенное (дисперсия)\n",
    "\n",
    "t_emp= (x_mean - m) / (СКО несмещенное/sqrt(n)) = 3.5805 определяем наблюдаемую велечину (критерий Стьюдента)\n",
    "критические величины:\n",
    "\n",
    "t1 = -2.262\n",
    "t2 = 2.262\n",
    "Вывод: так как t наблюдаемое больше кртитической величины верна гипотеза H1"
   ]
  },
  {
   "cell_type": "code",
   "execution_count": 6,
   "metadata": {},
   "outputs": [
    {
     "name": "stdout",
     "output_type": "stream",
     "text": [
      "2.5279999999999996 0.02472888888888891 10\n"
     ]
    }
   ],
   "source": [
    "m = 2.5\n",
    "x = np.array = ([2.51, 2.35, 2.74, 2.56, 2.40, 2.36, 2.65, 2.7, 2.67, 2.34])\n",
    "x_mean = np.mean(x)\n",
    "x_v = np.var(x, ddof=1)\n",
    "n_x = len(x)\n",
    "print(x_mean, x_v, n_x)"
   ]
  },
  {
   "cell_type": "code",
   "execution_count": 7,
   "metadata": {},
   "outputs": [
    {
     "data": {
      "text/plain": [
       "3.5805803844465265"
      ]
     },
     "execution_count": 7,
     "metadata": {},
     "output_type": "execute_result"
    }
   ],
   "source": [
    "t_emp = (x_mean - m) / (x_v / np.sqrt(n_x))\n",
    "t_emp"
   ]
  },
  {
   "cell_type": "code",
   "execution_count": 3,
   "metadata": {},
   "outputs": [
    {
     "name": "stdout",
     "output_type": "stream",
     "text": [
      "-2.262157162740992 2.2621571627409915\n"
     ]
    }
   ],
   "source": [
    "alpha = 0.05\n",
    "n = 10\n",
    "\n",
    "t1 = st.t.ppf(alpha/2, df = n-1)\n",
    "t2 = st.t.ppf(1 - alpha / 2, df = n - 1)\n",
    "print(t1, t2)"
   ]
  }
 ],
 "metadata": {
  "kernelspec": {
   "display_name": "Python 3",
   "language": "python",
   "name": "python3"
  },
  "language_info": {
   "codemirror_mode": {
    "name": "ipython",
    "version": 3
   },
   "file_extension": ".py",
   "mimetype": "text/x-python",
   "name": "python",
   "nbconvert_exporter": "python",
   "pygments_lexer": "ipython3",
   "version": "3.9.6"
  },
  "orig_nbformat": 4,
  "vscode": {
   "interpreter": {
    "hash": "31f2aee4e71d21fbe5cf8b01ff0e069b9275f58929596ceb00d14d90e3e16cd6"
   }
  }
 },
 "nbformat": 4,
 "nbformat_minor": 2
}
