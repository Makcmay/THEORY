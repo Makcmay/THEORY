{
 "cells": [
  {
   "cell_type": "markdown",
   "metadata": {},
   "source": [
    "Провести дисперсионный анализ для определения того, есть ли различия среднего роста среди взрослых футболистов, хоккеистов и штангистов.\n",
    "Даны значения роста в трех группах случайно выбранных спортсменов:\n",
    "\n",
    "Футболисты: 173, 175, 180, 178, 177, 185, 183, 182.\n",
    "\n",
    "Хоккеисты: 177, 179, 180, 188, 177, 172, 171, 184, 180.\n",
    "\n",
    "Штангисты: 172, 173, 169, 177, 166, 180, 178, 177, 172, 166, 170."
   ]
  },
  {
   "cell_type": "code",
   "execution_count": 17,
   "metadata": {},
   "outputs": [],
   "source": [
    "import numpy as np\n",
    "import matplotlib.pyplot as plt\n",
    "import scipy.stats as st\n",
    "from statsmodels.stats.multicomp import pairwise_tukeyhsd\n",
    "import pandas as pd "
   ]
  },
  {
   "cell_type": "code",
   "execution_count": 18,
   "metadata": {},
   "outputs": [],
   "source": [
    "x1 = np.array([173, 175, 180, 178, 177, 185, 183, 182])\n",
    "x2 = np.array([177, 179, 180, 188, 177, 172, 171, 184, 180])\n",
    "x3 = np.array([172, 173, 169, 177, 166, 180, 178, 177, 172, 166, 170])"
   ]
  },
  {
   "cell_type": "code",
   "execution_count": 19,
   "metadata": {},
   "outputs": [
    {
     "name": "stdout",
     "output_type": "stream",
     "text": [
      "ShapiroResult(statistic=0.9775082468986511, pvalue=0.9495404362678528)\n",
      "ShapiroResult(statistic=0.9579196572303772, pvalue=0.7763139009475708)\n",
      "ShapiroResult(statistic=0.9386808276176453, pvalue=0.5051165223121643)\n"
     ]
    }
   ],
   "source": [
    "# проверка на нормальность\n",
    "print(st.shapiro(x1))\n",
    "print(st.shapiro(x2))\n",
    "print(st.shapiro(x3))"
   ]
  },
  {
   "attachments": {},
   "cell_type": "markdown",
   "metadata": {},
   "source": [
    "pvalue во всех выбораках больше alpha -> H0, распределение нормальное\n",
    "\n",
    "проверяем равенство дисперсий"
   ]
  },
  {
   "cell_type": "code",
   "execution_count": 20,
   "metadata": {},
   "outputs": [
    {
     "data": {
      "text/plain": [
       "BartlettResult(statistic=0.4640521043406442, pvalue=0.7929254656083131)"
      ]
     },
     "execution_count": 20,
     "metadata": {},
     "output_type": "execute_result"
    }
   ],
   "source": [
    "st.bartlett(x1, x2, x3)"
   ]
  },
  {
   "attachments": {},
   "cell_type": "markdown",
   "metadata": {},
   "source": [
    "pvalue=0.792 > alpha -> H0, дисперсии однородны\n",
    "\n",
    "можем применить однофакторный дисперсионный анализ"
   ]
  },
  {
   "cell_type": "code",
   "execution_count": 21,
   "metadata": {},
   "outputs": [
    {
     "data": {
      "text/plain": [
       "F_onewayResult(statistic=5.500053450812596, pvalue=0.010482206918698694)"
      ]
     },
     "execution_count": 21,
     "metadata": {},
     "output_type": "execute_result"
    }
   ],
   "source": [
    "f = st.f_oneway(x1, x2, x3)\n",
    "f"
   ]
  },
  {
   "attachments": {},
   "cell_type": "markdown",
   "metadata": {},
   "source": [
    "pvalue=0.01048220 < alpha -> H1, статистически значимые различия найдены"
   ]
  },
  {
   "cell_type": "code",
   "execution_count": 24,
   "metadata": {},
   "outputs": [],
   "source": [
    "df1 = pd.DataFrame({'height': [73, 175, 180, 178, 177, 185, 183, 182],\n",
    "                     'group' : 'football'})"
   ]
  },
  {
   "cell_type": "code",
   "execution_count": 25,
   "metadata": {},
   "outputs": [],
   "source": [
    "df2 = pd.DataFrame({'height': [177, 179, 180, 188, 177, 172, 171, 184, 180],\n",
    "                     'group' : 'hockey'})"
   ]
  },
  {
   "cell_type": "code",
   "execution_count": 26,
   "metadata": {},
   "outputs": [],
   "source": [
    "df3 = pd.DataFrame({'height': [172, 173, 169, 177, 166, 180, 178, 177, 172, 166, 170],\n",
    "                     'group' : 'barbell'})"
   ]
  },
  {
   "cell_type": "code",
   "execution_count": 27,
   "metadata": {},
   "outputs": [
    {
     "name": "stderr",
     "output_type": "stream",
     "text": [
      "/var/folders/3s/9xxqj9854x5d63mb_dq115ch0000gn/T/ipykernel_717/2217162952.py:1: FutureWarning: The frame.append method is deprecated and will be removed from pandas in a future version. Use pandas.concat instead.\n",
      "  df_append = df1.append(df2, ignore_index=True)\n"
     ]
    }
   ],
   "source": [
    "df_append = df1.append(df2, ignore_index=True) "
   ]
  },
  {
   "cell_type": "code",
   "execution_count": 28,
   "metadata": {},
   "outputs": [
    {
     "name": "stdout",
     "output_type": "stream",
     "text": [
      "    height     group\n",
      "0       73  football\n",
      "1      175  football\n",
      "2      180  football\n",
      "3      178  football\n",
      "4      177  football\n",
      "5      185  football\n",
      "6      183  football\n",
      "7      182  football\n",
      "8      177    hockey\n",
      "9      179    hockey\n",
      "10     180    hockey\n",
      "11     188    hockey\n",
      "12     177    hockey\n",
      "13     172    hockey\n",
      "14     171    hockey\n",
      "15     184    hockey\n",
      "16     180    hockey\n",
      "17     172   barbell\n",
      "18     173   barbell\n",
      "19     169   barbell\n",
      "20     177   barbell\n",
      "21     166   barbell\n",
      "22     180   barbell\n",
      "23     178   barbell\n",
      "24     177   barbell\n",
      "25     172   barbell\n",
      "26     166   barbell\n",
      "27     170   barbell\n"
     ]
    },
    {
     "name": "stderr",
     "output_type": "stream",
     "text": [
      "/var/folders/3s/9xxqj9854x5d63mb_dq115ch0000gn/T/ipykernel_717/1762723305.py:1: FutureWarning: The frame.append method is deprecated and will be removed from pandas in a future version. Use pandas.concat instead.\n",
      "  df_append_all = df_append.append(df3, ignore_index=True)\n"
     ]
    }
   ],
   "source": [
    "df_append_all = df_append.append(df3, ignore_index=True) \n",
    "     \n",
    "print(df_append_all) "
   ]
  },
  {
   "cell_type": "code",
   "execution_count": 29,
   "metadata": {},
   "outputs": [
    {
     "name": "stdout",
     "output_type": "stream",
     "text": [
      "   Multiple Comparison of Means - Tukey HSD, FWER=0.05   \n",
      "=========================================================\n",
      " group1   group2  meandiff p-adj   lower    upper  reject\n",
      "---------------------------------------------------------\n",
      " barbell football  -6.1023 0.8001 -29.8804 17.6759  False\n",
      " barbell   hockey   5.9394 0.7979 -17.0613   28.94  False\n",
      "football   hockey  12.0417 0.4606  -12.824 36.9074  False\n",
      "---------------------------------------------------------\n"
     ]
    }
   ],
   "source": [
    "tukey = pairwise_tukeyhsd(endog =df_append_all['height'],\n",
    "                        groups= df_append_all['group'],\n",
    "                        alpha = 0.05)\n",
    "print(tukey)"
   ]
  }
 ],
 "metadata": {
  "kernelspec": {
   "display_name": "Python 3",
   "language": "python",
   "name": "python3"
  },
  "language_info": {
   "codemirror_mode": {
    "name": "ipython",
    "version": 3
   },
   "file_extension": ".py",
   "mimetype": "text/x-python",
   "name": "python",
   "nbconvert_exporter": "python",
   "pygments_lexer": "ipython3",
   "version": "3.9.6"
  },
  "orig_nbformat": 4
 },
 "nbformat": 4,
 "nbformat_minor": 2
}
