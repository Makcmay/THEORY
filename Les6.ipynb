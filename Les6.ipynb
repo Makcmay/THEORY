{
 "cells": [
  {
   "cell_type": "code",
   "execution_count": 2,
   "metadata": {},
   "outputs": [],
   "source": [
    "import numpy as np\n",
    "import scipy.stats as st\n",
    "a = np.array([178, 184, 149, 193, 186, 173, 169, 175, 159 ,174])"
   ]
  },
  {
   "cell_type": "code",
   "execution_count": 4,
   "metadata": {},
   "outputs": [
    {
     "data": {
      "text/plain": [
       "174.0"
      ]
     },
     "execution_count": 4,
     "metadata": {},
     "output_type": "execute_result"
    }
   ],
   "source": [
    "x1 = np.mean(a)\n",
    "x1"
   ]
  },
  {
   "cell_type": "code",
   "execution_count": 5,
   "metadata": {},
   "outputs": [
    {
     "data": {
      "text/plain": [
       "166.44444444444446"
      ]
     },
     "execution_count": 5,
     "metadata": {},
     "output_type": "execute_result"
    }
   ],
   "source": [
    "D1 = np.var(a, ddof=1)\n",
    "D1"
   ]
  },
  {
   "cell_type": "code",
   "execution_count": 8,
   "metadata": {},
   "outputs": [
    {
     "data": {
      "text/plain": [
       "2.2621571627409915"
      ]
     },
     "execution_count": 8,
     "metadata": {},
     "output_type": "execute_result"
    }
   ],
   "source": [
    "n  = 10\n",
    "alpha = 0.05\n",
    "t1 = st.t.ppf(1-alpha/2, n - 1) #t1 = st.t.ppf(0.975, 9) по таблице поиск на пересечении 0.975(альфа пополам и минус 100%) и 9(степени свободы)\n",
    "t1"
   ]
  },
  {
   "cell_type": "code",
   "execution_count": 9,
   "metadata": {},
   "outputs": [
    {
     "data": {
      "text/plain": [
       "164.77094092110704"
      ]
     },
     "execution_count": 9,
     "metadata": {},
     "output_type": "execute_result"
    }
   ],
   "source": [
    "x1 - t1 * np.sqrt(D1 / n)"
   ]
  },
  {
   "cell_type": "code",
   "execution_count": 10,
   "metadata": {},
   "outputs": [
    {
     "data": {
      "text/plain": [
       "183.22905907889296"
      ]
     },
     "execution_count": 10,
     "metadata": {},
     "output_type": "execute_result"
    }
   ],
   "source": [
    "x1 + t1 * np.sqrt(D1 / n)"
   ]
  },
  {
   "attachments": {},
   "cell_type": "markdown",
   "metadata": {},
   "source": [
    "[164.77 ; 183.22] доверительный интервал - с вероятностью 95% среднее занчение ГС попадет в интервал"
   ]
  },
  {
   "attachments": {},
   "cell_type": "markdown",
   "metadata": {},
   "source": [
    "Оценить различие в росте между двумя средними арифметическими популяции А и В с помощью 95% доверительного интервала\n",
    "\n",
    "delta ± t@alpha/2 * S@delta\n",
    "\n",
    "D = (D1 + D2) / 2 - Дисперсия\n",
    "\n",
    "S@delta = sqrt (D / n1 + D / n2)"
   ]
  },
  {
   "cell_type": "code",
   "execution_count": 12,
   "metadata": {},
   "outputs": [
    {
     "name": "stdout",
     "output_type": "stream",
     "text": [
      "10 10\n"
     ]
    }
   ],
   "source": [
    "a = np.array([178, 184, 149, 193, 186, 173, 169, 175, 159, 174])\n",
    "b = np.array([150, 154, 167, 165, 171, 150, 158, 170 ,175, 160])\n",
    "\n",
    "print(len(a), len(b))"
   ]
  },
  {
   "cell_type": "code",
   "execution_count": 13,
   "metadata": {},
   "outputs": [
    {
     "name": "stdout",
     "output_type": "stream",
     "text": [
      "174.0 162.0 12.0\n"
     ]
    }
   ],
   "source": [
    "x1 = np.mean(a)\n",
    "x2 = np.mean(b)\n",
    "delta = x1 - x2\n",
    "print(x1, x2, delta)"
   ]
  },
  {
   "cell_type": "code",
   "execution_count": 16,
   "metadata": {},
   "outputs": [
    {
     "name": "stdout",
     "output_type": "stream",
     "text": [
      "166.44444444444446 80.0 123.22222222222223\n"
     ]
    }
   ],
   "source": [
    "D1 = np.var(a, ddof=1) # несмещеная дисперсия для выборки 1\n",
    "D2 = np.var(b, ddof=1) # несмещеная дисперсия для выборки 2\n",
    "D = (D1 + D2) / 2      # объединенная оценка дисперсии\n",
    "\n",
    "print(D1, D2, D)"
   ]
  },
  {
   "cell_type": "code",
   "execution_count": 18,
   "metadata": {},
   "outputs": [
    {
     "data": {
      "text/plain": [
       "4.964317117635058"
      ]
     },
     "execution_count": 18,
     "metadata": {},
     "output_type": "execute_result"
    }
   ],
   "source": [
    "SE = np.sqrt(D/10 + D/10) #Стандартная ошибка разницы средних\n",
    "SE"
   ]
  },
  {
   "cell_type": "code",
   "execution_count": 21,
   "metadata": {},
   "outputs": [
    {
     "data": {
      "text/plain": [
       "2.10092204024096"
      ]
     },
     "execution_count": 21,
     "metadata": {},
     "output_type": "execute_result"
    }
   ],
   "source": [
    "t = st.t.ppf(0.975, 18) #степени свободы = 2*(n-1)=18, (1 - alpha = 0.05 / 2) = 0.975\n",
    "t"
   ]
  },
  {
   "cell_type": "code",
   "execution_count": 24,
   "metadata": {},
   "outputs": [
    {
     "name": "stdout",
     "output_type": "stream",
     "text": [
      "1.570356752815032\n",
      "[1.570356752815032, 22.42964324718497]\n"
     ]
    }
   ],
   "source": [
    "L = delta - t * SE # нижняя граница\n",
    "U = delta + t * SE # верхняя граница\n",
    "print(L)\n",
    "print([L,U])"
   ]
  }
 ],
 "metadata": {
  "kernelspec": {
   "display_name": "Python 3",
   "language": "python",
   "name": "python3"
  },
  "language_info": {
   "codemirror_mode": {
    "name": "ipython",
    "version": 3
   },
   "file_extension": ".py",
   "mimetype": "text/x-python",
   "name": "python",
   "nbconvert_exporter": "python",
   "pygments_lexer": "ipython3",
   "version": "3.9.6"
  },
  "orig_nbformat": 4,
  "vscode": {
   "interpreter": {
    "hash": "31f2aee4e71d21fbe5cf8b01ff0e069b9275f58929596ceb00d14d90e3e16cd6"
   }
  }
 },
 "nbformat": 4,
 "nbformat_minor": 2
}
